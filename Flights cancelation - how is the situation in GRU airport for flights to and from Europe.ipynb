{
 "cells": [
  {
   "cell_type": "markdown",
   "metadata": {},
   "source": [
    "# Traveling during incertain times: GRU Airport flights from and to Europe"
   ]
  },
  {
   "cell_type": "markdown",
   "metadata": {},
   "source": [
    "International flights were severely affected by the pandemic. Even though it is not the best time to travel, some people still have to go back to their homes, go back to school or even travel for professional reasons. For those who study abroad, July and August are specially important since the academic year in Europe starts on September.\n",
    "\n",
    "This project intend to help people that need to go to Europe or Brazil during these times, and need to understand what is happening on the airports in terms of confirmed and canceled flights, and airline's operations. This analysis also offers insights about which airports/cities in Europe had more confirmed/canceled flights.\n",
    "\n",
    "The dataset was found on the Anac website and it contains all flights from and to airports in Brazil during June 2020.\n",
    "By the time of this analysis it was the newest data avaiable.\n",
    "\n",
    "This analysis focus on flights made bewtween Guarulhos Airport and Airports in Europe."
   ]
  },
  {
   "cell_type": "markdown",
   "metadata": {},
   "source": [
    "### This project in a nutshell:"
   ]
  },
  {
   "cell_type": "markdown",
   "metadata": {},
   "source": [
    "- KLM, Latam and Britsh Airways were in the top 3 companies that made flights from and to Europe. \n",
    "- Frankfurt, London and Amsterdam were the main destinations and departures for confirmed flights.\n",
    "- 6.9% of flights for Europe were canceled against 14,9% from Europe to GRU.\n"
   ]
  },
  {
   "cell_type": "markdown",
   "metadata": {},
   "source": [
    "## First Look"
   ]
  },
  {
   "cell_type": "code",
   "execution_count": 1,
   "metadata": {},
   "outputs": [],
   "source": [
    "import pandas as pd\n",
    "import numpy as np\n",
    "import matplotlib.pyplot as plt\n",
    "import seaborn as sns\n",
    "import plotly.express as px "
   ]
  },
  {
   "cell_type": "code",
   "execution_count": 3,
   "metadata": {},
   "outputs": [
    {
     "data": {
      "text/html": [
       "<div>\n",
       "<style scoped>\n",
       "    .dataframe tbody tr th:only-of-type {\n",
       "        vertical-align: middle;\n",
       "    }\n",
       "\n",
       "    .dataframe tbody tr th {\n",
       "        vertical-align: top;\n",
       "    }\n",
       "\n",
       "    .dataframe thead th {\n",
       "        text-align: right;\n",
       "    }\n",
       "</style>\n",
       "<table border=\"1\" class=\"dataframe\">\n",
       "  <thead>\n",
       "    <tr style=\"text-align: right;\">\n",
       "      <th></th>\n",
       "      <th>ICAO Empresa Aerea</th>\n",
       "      <th>Numero Voo</th>\n",
       "      <th>Codigo DI</th>\n",
       "      <th>Codigo Tipo Linha</th>\n",
       "      <th>ICAO Aerodromo Origem</th>\n",
       "      <th>ICAO Aerodromo Destino</th>\n",
       "      <th>Partida Prevista</th>\n",
       "      <th>Partida Real</th>\n",
       "      <th>Chegada Prevista</th>\n",
       "      <th>Chegada Real</th>\n",
       "      <th>Situacao Voo</th>\n",
       "    </tr>\n",
       "  </thead>\n",
       "  <tbody>\n",
       "    <tr>\n",
       "      <th>0</th>\n",
       "      <td>AAL</td>\n",
       "      <td>9715</td>\n",
       "      <td>2</td>\n",
       "      <td>X</td>\n",
       "      <td>KMIA</td>\n",
       "      <td>SBGR</td>\n",
       "      <td>08/06/2020 16:50</td>\n",
       "      <td>08/06/2020 20:46</td>\n",
       "      <td>09/06/2020 02:40</td>\n",
       "      <td>09/06/2020 05:17</td>\n",
       "      <td>REALIZADO</td>\n",
       "    </tr>\n",
       "    <tr>\n",
       "      <th>1</th>\n",
       "      <td>AAL</td>\n",
       "      <td>9715</td>\n",
       "      <td>2</td>\n",
       "      <td>X</td>\n",
       "      <td>KMIA</td>\n",
       "      <td>SBGR</td>\n",
       "      <td>09/06/2020 19:50</td>\n",
       "      <td>09/06/2020 20:59</td>\n",
       "      <td>10/06/2020 05:35</td>\n",
       "      <td>10/06/2020 05:31</td>\n",
       "      <td>REALIZADO</td>\n",
       "    </tr>\n",
       "    <tr>\n",
       "      <th>2</th>\n",
       "      <td>AAL</td>\n",
       "      <td>9715</td>\n",
       "      <td>2</td>\n",
       "      <td>X</td>\n",
       "      <td>KMIA</td>\n",
       "      <td>SBGR</td>\n",
       "      <td>11/06/2020 19:50</td>\n",
       "      <td>11/06/2020 21:00</td>\n",
       "      <td>12/06/2020 05:35</td>\n",
       "      <td>12/06/2020 05:25</td>\n",
       "      <td>REALIZADO</td>\n",
       "    </tr>\n",
       "    <tr>\n",
       "      <th>3</th>\n",
       "      <td>AAL</td>\n",
       "      <td>9715</td>\n",
       "      <td>2</td>\n",
       "      <td>X</td>\n",
       "      <td>KMIA</td>\n",
       "      <td>SBGR</td>\n",
       "      <td>14/06/2020 19:50</td>\n",
       "      <td>14/06/2020 20:46</td>\n",
       "      <td>15/06/2020 05:35</td>\n",
       "      <td>15/06/2020 05:01</td>\n",
       "      <td>REALIZADO</td>\n",
       "    </tr>\n",
       "    <tr>\n",
       "      <th>4</th>\n",
       "      <td>AAL</td>\n",
       "      <td>9715</td>\n",
       "      <td>2</td>\n",
       "      <td>X</td>\n",
       "      <td>KMIA</td>\n",
       "      <td>SBGR</td>\n",
       "      <td>15/06/2020 19:50</td>\n",
       "      <td>15/06/2020 20:43</td>\n",
       "      <td>16/06/2020 05:35</td>\n",
       "      <td>16/06/2020 05:02</td>\n",
       "      <td>REALIZADO</td>\n",
       "    </tr>\n",
       "  </tbody>\n",
       "</table>\n",
       "</div>"
      ],
      "text/plain": [
       "  ICAO Empresa Aerea Numero Voo Codigo DI Codigo Tipo Linha  \\\n",
       "0                AAL       9715         2                 X   \n",
       "1                AAL       9715         2                 X   \n",
       "2                AAL       9715         2                 X   \n",
       "3                AAL       9715         2                 X   \n",
       "4                AAL       9715         2                 X   \n",
       "\n",
       "  ICAO Aerodromo Origem ICAO Aerodromo Destino  Partida Prevista  \\\n",
       "0                  KMIA                   SBGR  08/06/2020 16:50   \n",
       "1                  KMIA                   SBGR  09/06/2020 19:50   \n",
       "2                  KMIA                   SBGR  11/06/2020 19:50   \n",
       "3                  KMIA                   SBGR  14/06/2020 19:50   \n",
       "4                  KMIA                   SBGR  15/06/2020 19:50   \n",
       "\n",
       "       Partida Real  Chegada Prevista      Chegada Real Situacao Voo  \n",
       "0  08/06/2020 20:46  09/06/2020 02:40  09/06/2020 05:17    REALIZADO  \n",
       "1  09/06/2020 20:59  10/06/2020 05:35  10/06/2020 05:31    REALIZADO  \n",
       "2  11/06/2020 21:00  12/06/2020 05:35  12/06/2020 05:25    REALIZADO  \n",
       "3  14/06/2020 20:46  15/06/2020 05:35  15/06/2020 05:01    REALIZADO  \n",
       "4  15/06/2020 20:43  16/06/2020 05:35  16/06/2020 05:02    REALIZADO  "
      ]
     },
     "execution_count": 3,
     "metadata": {},
     "output_type": "execute_result"
    }
   ],
   "source": [
    "#Read in the data\n",
    "data = pd.read_csv('VRA_06_2020.csv', sep=';')\n",
    "\n",
    "#Exploration\n",
    "data.head()"
   ]
  },
  {
   "cell_type": "markdown",
   "metadata": {},
   "source": [
    "Since we are focusing on airlines and flight status, let's keep just the columns that are interesting for the analysis"
   ]
  },
  {
   "cell_type": "code",
   "execution_count": 5,
   "metadata": {},
   "outputs": [],
   "source": [
    "#Dropping unecessary columns\n",
    "\n",
    "data = data.drop([\"Codigo DI\", \"Codigo Tipo Linha\", \"Partida Real\", \"Chegada Prevista\", \"Chegada Real\"], axis=1)                      "
   ]
  },
  {
   "cell_type": "code",
   "execution_count": 7,
   "metadata": {},
   "outputs": [
    {
     "data": {
      "text/plain": [
       "ICAO Empresa Aerea          0\n",
       "Numero Voo                  0\n",
       "ICAO Aerodromo Origem       0\n",
       "ICAO Aerodromo Destino      0\n",
       "Partida Prevista          164\n",
       "Situacao Voo                0\n",
       "dtype: int64"
      ]
     },
     "execution_count": 7,
     "metadata": {},
     "output_type": "execute_result"
    }
   ],
   "source": [
    "#Checking for nulls\n",
    "data.isnull().sum()"
   ]
  },
  {
   "cell_type": "code",
   "execution_count": 8,
   "metadata": {},
   "outputs": [
    {
     "data": {
      "text/plain": [
       "REALIZADO        11483\n",
       "CANCELADO         1287\n",
       "NAO INFORMADO       30\n",
       "Name: Situacao Voo, dtype: int64"
      ]
     },
     "execution_count": 8,
     "metadata": {},
     "output_type": "execute_result"
    }
   ],
   "source": [
    "#Checking for nulls in other forms\n",
    "data[\"Situacao Voo\"].value_counts()"
   ]
  },
  {
   "cell_type": "markdown",
   "metadata": {},
   "source": [
    "The status information about the flight is crutial to the analysis. Due to that, we are going to drop rows that don't have this information."
   ]
  },
  {
   "cell_type": "code",
   "execution_count": 15,
   "metadata": {},
   "outputs": [],
   "source": [
    "#Dropping columns with flight status \"Nao Informado\"\n",
    "data = data[data[\"Situacao Voo\"] != \"NAO INFORMADO\"]"
   ]
  },
  {
   "cell_type": "code",
   "execution_count": 65,
   "metadata": {},
   "outputs": [],
   "source": [
    "#Renaming columns\n",
    "\n",
    "new_names = { \"ICAO Empresa Aerea\" : \"airline\", \"Numero Voo\": \"flight_number\", \"ICAO Aerodromo Origem\": \"airport_departure\", \n",
    "             \"ICAO Aerodromo Destino\" : \"airport_arrival\", \"Partida Prevista\": \"est_departure_time\", \"Situacao Voo\": \"status\"}\n",
    "\n",
    "data.rename(new_names, inplace=True, axis=1)\n"
   ]
  },
  {
   "cell_type": "code",
   "execution_count": 68,
   "metadata": {},
   "outputs": [
    {
     "data": {
      "text/plain": [
       "Index(['airline', 'flight_number', 'airport_departure', 'airport_arrival',\n",
       "       'est_departure_time', 'status'],\n",
       "      dtype='object')"
      ]
     },
     "execution_count": 68,
     "metadata": {},
     "output_type": "execute_result"
    }
   ],
   "source": [
    "#Checking the names\n",
    "data.columns"
   ]
  },
  {
   "cell_type": "markdown",
   "metadata": {},
   "source": [
    "## Getting extra information about airports "
   ]
  },
  {
   "cell_type": "code",
   "execution_count": 26,
   "metadata": {
    "scrolled": true
   },
   "outputs": [],
   "source": [
    "#Read in complementary data\n",
    "info = pd.read_excel('glossario_de_aerodromo.xls', header=3)"
   ]
  },
  {
   "cell_type": "code",
   "execution_count": 30,
   "metadata": {},
   "outputs": [
    {
     "data": {
      "text/html": [
       "<div>\n",
       "<style scoped>\n",
       "    .dataframe tbody tr th:only-of-type {\n",
       "        vertical-align: middle;\n",
       "    }\n",
       "\n",
       "    .dataframe tbody tr th {\n",
       "        vertical-align: top;\n",
       "    }\n",
       "\n",
       "    .dataframe thead th {\n",
       "        text-align: right;\n",
       "    }\n",
       "</style>\n",
       "<table border=\"1\" class=\"dataframe\">\n",
       "  <thead>\n",
       "    <tr style=\"text-align: right;\">\n",
       "      <th></th>\n",
       "      <th>Unnamed: 0</th>\n",
       "      <th>Sigla OACI</th>\n",
       "      <th>Descrição</th>\n",
       "      <th>Cidade</th>\n",
       "      <th>UF</th>\n",
       "      <th>País</th>\n",
       "      <th>Continente</th>\n",
       "    </tr>\n",
       "  </thead>\n",
       "  <tbody>\n",
       "    <tr>\n",
       "      <th>0</th>\n",
       "      <td>NaN</td>\n",
       "      <td>1AON</td>\n",
       "      <td>OUROLANDIA DO NORTE</td>\n",
       "      <td>OURILANDIA DO NORTE</td>\n",
       "      <td>PA</td>\n",
       "      <td>BRASIL</td>\n",
       "      <td>AMERICA DO SUL</td>\n",
       "    </tr>\n",
       "    <tr>\n",
       "      <th>1</th>\n",
       "      <td>NaN</td>\n",
       "      <td>2NHT</td>\n",
       "      <td>HOTEL TRANSAMÉRICA</td>\n",
       "      <td>UNA</td>\n",
       "      <td>BA</td>\n",
       "      <td>BRASIL</td>\n",
       "      <td>AMERICA DO SUL</td>\n",
       "    </tr>\n",
       "    <tr>\n",
       "      <th>2</th>\n",
       "      <td>NaN</td>\n",
       "      <td>6ASO</td>\n",
       "      <td>SORRISO</td>\n",
       "      <td>SORRISO</td>\n",
       "      <td>MT</td>\n",
       "      <td>BRASIL</td>\n",
       "      <td>AMERICA DO SUL</td>\n",
       "    </tr>\n",
       "    <tr>\n",
       "      <th>3</th>\n",
       "      <td>NaN</td>\n",
       "      <td>CYMX</td>\n",
       "      <td>MONTREAL-MIRABEL INTERNATIONAL AIRPORT</td>\n",
       "      <td>MIRABEL</td>\n",
       "      <td>NaN</td>\n",
       "      <td>CANADA</td>\n",
       "      <td>AMERICA DO NORTE</td>\n",
       "    </tr>\n",
       "    <tr>\n",
       "      <th>4</th>\n",
       "      <td>NaN</td>\n",
       "      <td>CYQB</td>\n",
       "      <td>QUEBEC CITY JEAN LESAGE INTERNATIONAL AIRPORT</td>\n",
       "      <td>QUEBEC JEAN LESAGE INTL</td>\n",
       "      <td>NaN</td>\n",
       "      <td>CANADA</td>\n",
       "      <td>AMERICA DO NORTE</td>\n",
       "    </tr>\n",
       "    <tr>\n",
       "      <th>...</th>\n",
       "      <td>...</td>\n",
       "      <td>...</td>\n",
       "      <td>...</td>\n",
       "      <td>...</td>\n",
       "      <td>...</td>\n",
       "      <td>...</td>\n",
       "      <td>...</td>\n",
       "    </tr>\n",
       "    <tr>\n",
       "      <th>796</th>\n",
       "      <td>NaN</td>\n",
       "      <td>TTPP</td>\n",
       "      <td>PIARCO INTERNATIONAL AIRPORT</td>\n",
       "      <td>PORT OF SPAIN</td>\n",
       "      <td>NaN</td>\n",
       "      <td>TRINIDAD E TOBAGO</td>\n",
       "      <td>AMERICA CENTRAL</td>\n",
       "    </tr>\n",
       "    <tr>\n",
       "      <th>797</th>\n",
       "      <td>NaN</td>\n",
       "      <td>UKBB</td>\n",
       "      <td>BORYSPIL INTERNATIONAL AIRPORT</td>\n",
       "      <td>KIEV BORISPOL</td>\n",
       "      <td>NaN</td>\n",
       "      <td>UCRANIA</td>\n",
       "      <td>EUROPA</td>\n",
       "    </tr>\n",
       "    <tr>\n",
       "      <th>798</th>\n",
       "      <td>NaN</td>\n",
       "      <td>UUEE</td>\n",
       "      <td>SHEREMETYEVO INTERNATIONAL AIRPORT</td>\n",
       "      <td>MOSCOU</td>\n",
       "      <td>NaN</td>\n",
       "      <td>RUSSIA</td>\n",
       "      <td>EUROPA</td>\n",
       "    </tr>\n",
       "    <tr>\n",
       "      <th>799</th>\n",
       "      <td>NaN</td>\n",
       "      <td>UUWW</td>\n",
       "      <td>VNUKOVO AIRPORT</td>\n",
       "      <td>MOSCOW VNUKOVO</td>\n",
       "      <td>NaN</td>\n",
       "      <td>RUSSIA</td>\n",
       "      <td>EUROPA</td>\n",
       "    </tr>\n",
       "    <tr>\n",
       "      <th>800</th>\n",
       "      <td>NaN</td>\n",
       "      <td>VDSR</td>\n",
       "      <td>ANGKOR INTERNATIONAL AIRPORT</td>\n",
       "      <td>NaN</td>\n",
       "      <td>NaN</td>\n",
       "      <td>CAMBOJA</td>\n",
       "      <td>ASIA</td>\n",
       "    </tr>\n",
       "  </tbody>\n",
       "</table>\n",
       "<p>801 rows × 7 columns</p>\n",
       "</div>"
      ],
      "text/plain": [
       "     Unnamed: 0 Sigla OACI                                      Descrição  \\\n",
       "0           NaN       1AON                            OUROLANDIA DO NORTE   \n",
       "1           NaN       2NHT                             HOTEL TRANSAMÉRICA   \n",
       "2           NaN       6ASO                                        SORRISO   \n",
       "3           NaN       CYMX         MONTREAL-MIRABEL INTERNATIONAL AIRPORT   \n",
       "4           NaN       CYQB  QUEBEC CITY JEAN LESAGE INTERNATIONAL AIRPORT   \n",
       "..          ...        ...                                            ...   \n",
       "796         NaN       TTPP                   PIARCO INTERNATIONAL AIRPORT   \n",
       "797         NaN       UKBB                 BORYSPIL INTERNATIONAL AIRPORT   \n",
       "798         NaN       UUEE             SHEREMETYEVO INTERNATIONAL AIRPORT   \n",
       "799         NaN       UUWW                                VNUKOVO AIRPORT   \n",
       "800         NaN       VDSR                   ANGKOR INTERNATIONAL AIRPORT   \n",
       "\n",
       "                      Cidade   UF               País        Continente  \n",
       "0        OURILANDIA DO NORTE   PA             BRASIL    AMERICA DO SUL  \n",
       "1                       UNA    BA             BRASIL    AMERICA DO SUL  \n",
       "2                    SORRISO   MT             BRASIL    AMERICA DO SUL  \n",
       "3                    MIRABEL  NaN             CANADA  AMERICA DO NORTE  \n",
       "4    QUEBEC JEAN LESAGE INTL  NaN             CANADA  AMERICA DO NORTE  \n",
       "..                       ...  ...                ...               ...  \n",
       "796            PORT OF SPAIN  NaN  TRINIDAD E TOBAGO   AMERICA CENTRAL  \n",
       "797            KIEV BORISPOL  NaN            UCRANIA            EUROPA  \n",
       "798                   MOSCOU  NaN             RUSSIA            EUROPA  \n",
       "799           MOSCOW VNUKOVO  NaN             RUSSIA            EUROPA  \n",
       "800                      NaN  NaN            CAMBOJA              ASIA  \n",
       "\n",
       "[801 rows x 7 columns]"
      ]
     },
     "execution_count": 30,
     "metadata": {},
     "output_type": "execute_result"
    }
   ],
   "source": [
    "info.head(-10)"
   ]
  },
  {
   "cell_type": "code",
   "execution_count": 32,
   "metadata": {},
   "outputs": [],
   "source": [
    "#Filtering for information about Europe\n",
    "info = info[info.Continente == \"EUROPA\"]"
   ]
  },
  {
   "cell_type": "code",
   "execution_count": 56,
   "metadata": {},
   "outputs": [],
   "source": [
    "#Getiing the list of airports in Europe\n",
    "airports = info[\"Sigla OACI\"].unique().tolist()"
   ]
  },
  {
   "cell_type": "code",
   "execution_count": 61,
   "metadata": {},
   "outputs": [],
   "source": [
    "#Getting airport names and description\n",
    "airports_names = info[info[\"Sigla OACI\"] == airports]\n",
    "airport_descriptions = airports_names[[\"Sigla OACI\",\"Descrição\"]]"
   ]
  },
  {
   "cell_type": "markdown",
   "metadata": {},
   "source": [
    "## Preparing and filtering data for analysis"
   ]
  },
  {
   "cell_type": "markdown",
   "metadata": {},
   "source": [
    "- **First filter: Flights from Brazil to Europe**"
   ]
  },
  {
   "cell_type": "code",
   "execution_count": 70,
   "metadata": {},
   "outputs": [],
   "source": [
    "#Filtering all flights in Brazil with Europe as destination\n",
    "data_to_europe = data[data[\"airport_arrival\"].isin(airports)]"
   ]
  },
  {
   "cell_type": "code",
   "execution_count": 81,
   "metadata": {},
   "outputs": [],
   "source": [
    "#Filtering all flights from Europe to Brazil\n",
    "data_from_europe = data[data[\"airport_departure\"].isin(airports)]"
   ]
  },
  {
   "cell_type": "markdown",
   "metadata": {},
   "source": [
    "**1.Flights from Guarulhos to Europe**"
   ]
  },
  {
   "cell_type": "code",
   "execution_count": 74,
   "metadata": {},
   "outputs": [],
   "source": [
    "data_gru_to_eu = data_to_europe[data_to_europe['airport_departure'] == \"SBGR\"]"
   ]
  },
  {
   "cell_type": "code",
   "execution_count": 75,
   "metadata": {
    "scrolled": true
   },
   "outputs": [
    {
     "data": {
      "text/html": [
       "<div>\n",
       "<style scoped>\n",
       "    .dataframe tbody tr th:only-of-type {\n",
       "        vertical-align: middle;\n",
       "    }\n",
       "\n",
       "    .dataframe tbody tr th {\n",
       "        vertical-align: top;\n",
       "    }\n",
       "\n",
       "    .dataframe thead th {\n",
       "        text-align: right;\n",
       "    }\n",
       "</style>\n",
       "<table border=\"1\" class=\"dataframe\">\n",
       "  <thead>\n",
       "    <tr style=\"text-align: right;\">\n",
       "      <th></th>\n",
       "      <th>airline</th>\n",
       "      <th>flight_number</th>\n",
       "      <th>airport_departure</th>\n",
       "      <th>airport_arrival</th>\n",
       "      <th>est_departure_time</th>\n",
       "      <th>status</th>\n",
       "    </tr>\n",
       "  </thead>\n",
       "  <tbody>\n",
       "    <tr>\n",
       "      <th>57</th>\n",
       "      <td>AFR</td>\n",
       "      <td>443</td>\n",
       "      <td>SBGR</td>\n",
       "      <td>LFPG</td>\n",
       "      <td>04/06/2020 15:25</td>\n",
       "      <td>CANCELADO</td>\n",
       "    </tr>\n",
       "    <tr>\n",
       "      <th>81</th>\n",
       "      <td>AFR</td>\n",
       "      <td>457</td>\n",
       "      <td>SBGR</td>\n",
       "      <td>LFPG</td>\n",
       "      <td>02/06/2020 15:10</td>\n",
       "      <td>REALIZADO</td>\n",
       "    </tr>\n",
       "    <tr>\n",
       "      <th>82</th>\n",
       "      <td>AFR</td>\n",
       "      <td>457</td>\n",
       "      <td>SBGR</td>\n",
       "      <td>LFPG</td>\n",
       "      <td>05/06/2020 15:10</td>\n",
       "      <td>REALIZADO</td>\n",
       "    </tr>\n",
       "    <tr>\n",
       "      <th>83</th>\n",
       "      <td>AFR</td>\n",
       "      <td>457</td>\n",
       "      <td>SBGR</td>\n",
       "      <td>LFPG</td>\n",
       "      <td>07/06/2020 15:10</td>\n",
       "      <td>REALIZADO</td>\n",
       "    </tr>\n",
       "    <tr>\n",
       "      <th>84</th>\n",
       "      <td>AFR</td>\n",
       "      <td>457</td>\n",
       "      <td>SBGR</td>\n",
       "      <td>LFPG</td>\n",
       "      <td>09/06/2020 15:10</td>\n",
       "      <td>REALIZADO</td>\n",
       "    </tr>\n",
       "    <tr>\n",
       "      <th>...</th>\n",
       "      <td>...</td>\n",
       "      <td>...</td>\n",
       "      <td>...</td>\n",
       "      <td>...</td>\n",
       "      <td>...</td>\n",
       "      <td>...</td>\n",
       "    </tr>\n",
       "    <tr>\n",
       "      <th>12183</th>\n",
       "      <td>TAP</td>\n",
       "      <td>9560</td>\n",
       "      <td>SBGR</td>\n",
       "      <td>LPPT</td>\n",
       "      <td>21/06/2020 07:05</td>\n",
       "      <td>REALIZADO</td>\n",
       "    </tr>\n",
       "    <tr>\n",
       "      <th>12184</th>\n",
       "      <td>TAP</td>\n",
       "      <td>9560</td>\n",
       "      <td>SBGR</td>\n",
       "      <td>LPPT</td>\n",
       "      <td>07/06/2020 07:05</td>\n",
       "      <td>CANCELADO</td>\n",
       "    </tr>\n",
       "    <tr>\n",
       "      <th>12185</th>\n",
       "      <td>TAP</td>\n",
       "      <td>9560</td>\n",
       "      <td>SBGR</td>\n",
       "      <td>LPPT</td>\n",
       "      <td>17/06/2020 07:05</td>\n",
       "      <td>CANCELADO</td>\n",
       "    </tr>\n",
       "    <tr>\n",
       "      <th>12186</th>\n",
       "      <td>TAP</td>\n",
       "      <td>9560</td>\n",
       "      <td>SBGR</td>\n",
       "      <td>LPPT</td>\n",
       "      <td>03/06/2020 07:20</td>\n",
       "      <td>REALIZADO</td>\n",
       "    </tr>\n",
       "    <tr>\n",
       "      <th>12187</th>\n",
       "      <td>TAP</td>\n",
       "      <td>9560</td>\n",
       "      <td>SBGR</td>\n",
       "      <td>LPPT</td>\n",
       "      <td>05/06/2020 07:05</td>\n",
       "      <td>REALIZADO</td>\n",
       "    </tr>\n",
       "  </tbody>\n",
       "</table>\n",
       "<p>145 rows × 6 columns</p>\n",
       "</div>"
      ],
      "text/plain": [
       "      airline flight_number airport_departure airport_arrival  \\\n",
       "57        AFR           443              SBGR            LFPG   \n",
       "81        AFR           457              SBGR            LFPG   \n",
       "82        AFR           457              SBGR            LFPG   \n",
       "83        AFR           457              SBGR            LFPG   \n",
       "84        AFR           457              SBGR            LFPG   \n",
       "...       ...           ...               ...             ...   \n",
       "12183     TAP          9560              SBGR            LPPT   \n",
       "12184     TAP          9560              SBGR            LPPT   \n",
       "12185     TAP          9560              SBGR            LPPT   \n",
       "12186     TAP          9560              SBGR            LPPT   \n",
       "12187     TAP          9560              SBGR            LPPT   \n",
       "\n",
       "      est_departure_time     status  \n",
       "57      04/06/2020 15:25  CANCELADO  \n",
       "81      02/06/2020 15:10  REALIZADO  \n",
       "82      05/06/2020 15:10  REALIZADO  \n",
       "83      07/06/2020 15:10  REALIZADO  \n",
       "84      09/06/2020 15:10  REALIZADO  \n",
       "...                  ...        ...  \n",
       "12183   21/06/2020 07:05  REALIZADO  \n",
       "12184   07/06/2020 07:05  CANCELADO  \n",
       "12185   17/06/2020 07:05  CANCELADO  \n",
       "12186   03/06/2020 07:20  REALIZADO  \n",
       "12187   05/06/2020 07:05  REALIZADO  \n",
       "\n",
       "[145 rows x 6 columns]"
      ]
     },
     "execution_count": 75,
     "metadata": {},
     "output_type": "execute_result"
    }
   ],
   "source": [
    "data_gru_to_eu"
   ]
  },
  {
   "cell_type": "markdown",
   "metadata": {},
   "source": [
    "- Confirmed Flights from Guarulhos to Europe"
   ]
  },
  {
   "cell_type": "code",
   "execution_count": 76,
   "metadata": {},
   "outputs": [],
   "source": [
    "confirmed_gru_to_eu = data_gru_to_eu[data_gru_to_eu[\"status\"] == \"REALIZADO\"]"
   ]
  },
  {
   "cell_type": "code",
   "execution_count": 80,
   "metadata": {
    "scrolled": true
   },
   "outputs": [
    {
     "data": {
      "text/plain": [
       "KLM    24\n",
       "BAW    23\n",
       "TAM    22\n",
       "DLH    22\n",
       "AFR    20\n",
       "TAP    17\n",
       "SWR     7\n",
       "Name: airline, dtype: int64"
      ]
     },
     "execution_count": 80,
     "metadata": {},
     "output_type": "execute_result"
    }
   ],
   "source": [
    "confirmed_gru_to_eu[\"airline\"].value_counts()"
   ]
  },
  {
   "cell_type": "markdown",
   "metadata": {},
   "source": [
    "- Cancelled flights from Guarulhos to Europe"
   ]
  },
  {
   "cell_type": "code",
   "execution_count": 78,
   "metadata": {},
   "outputs": [],
   "source": [
    "canceled_gru_to_eu = data_gru_to_eu[data_gru_to_eu[\"status\"] == \"CANCELADO\"]"
   ]
  },
  {
   "cell_type": "code",
   "execution_count": 79,
   "metadata": {
    "scrolled": true
   },
   "outputs": [
    {
     "data": {
      "text/html": [
       "<div>\n",
       "<style scoped>\n",
       "    .dataframe tbody tr th:only-of-type {\n",
       "        vertical-align: middle;\n",
       "    }\n",
       "\n",
       "    .dataframe tbody tr th {\n",
       "        vertical-align: top;\n",
       "    }\n",
       "\n",
       "    .dataframe thead th {\n",
       "        text-align: right;\n",
       "    }\n",
       "</style>\n",
       "<table border=\"1\" class=\"dataframe\">\n",
       "  <thead>\n",
       "    <tr style=\"text-align: right;\">\n",
       "      <th></th>\n",
       "      <th>airline</th>\n",
       "      <th>flight_number</th>\n",
       "      <th>airport_departure</th>\n",
       "      <th>airport_arrival</th>\n",
       "      <th>est_departure_time</th>\n",
       "      <th>status</th>\n",
       "    </tr>\n",
       "  </thead>\n",
       "  <tbody>\n",
       "    <tr>\n",
       "      <th>57</th>\n",
       "      <td>AFR</td>\n",
       "      <td>443</td>\n",
       "      <td>SBGR</td>\n",
       "      <td>LFPG</td>\n",
       "      <td>04/06/2020 15:25</td>\n",
       "      <td>CANCELADO</td>\n",
       "    </tr>\n",
       "    <tr>\n",
       "      <th>3926</th>\n",
       "      <td>BAW</td>\n",
       "      <td>3583</td>\n",
       "      <td>SBGR</td>\n",
       "      <td>EGLL</td>\n",
       "      <td>02/06/2020 16:30</td>\n",
       "      <td>CANCELADO</td>\n",
       "    </tr>\n",
       "    <tr>\n",
       "      <th>3927</th>\n",
       "      <td>BAW</td>\n",
       "      <td>3583</td>\n",
       "      <td>SBGR</td>\n",
       "      <td>EGLL</td>\n",
       "      <td>08/06/2020 16:30</td>\n",
       "      <td>CANCELADO</td>\n",
       "    </tr>\n",
       "    <tr>\n",
       "      <th>3928</th>\n",
       "      <td>BAW</td>\n",
       "      <td>3583</td>\n",
       "      <td>SBGR</td>\n",
       "      <td>EGLL</td>\n",
       "      <td>15/06/2020 16:30</td>\n",
       "      <td>CANCELADO</td>\n",
       "    </tr>\n",
       "    <tr>\n",
       "      <th>3947</th>\n",
       "      <td>CCA</td>\n",
       "      <td>908</td>\n",
       "      <td>SBGR</td>\n",
       "      <td>LEMD</td>\n",
       "      <td>04/06/2020 18:05</td>\n",
       "      <td>CANCELADO</td>\n",
       "    </tr>\n",
       "    <tr>\n",
       "      <th>3948</th>\n",
       "      <td>CCA</td>\n",
       "      <td>908</td>\n",
       "      <td>SBGR</td>\n",
       "      <td>LEMD</td>\n",
       "      <td>07/06/2020 18:05</td>\n",
       "      <td>CANCELADO</td>\n",
       "    </tr>\n",
       "    <tr>\n",
       "      <th>3949</th>\n",
       "      <td>CCA</td>\n",
       "      <td>908</td>\n",
       "      <td>SBGR</td>\n",
       "      <td>LEMD</td>\n",
       "      <td>11/06/2020 18:05</td>\n",
       "      <td>CANCELADO</td>\n",
       "    </tr>\n",
       "    <tr>\n",
       "      <th>3950</th>\n",
       "      <td>CCA</td>\n",
       "      <td>908</td>\n",
       "      <td>SBGR</td>\n",
       "      <td>LEMD</td>\n",
       "      <td>14/06/2020 18:05</td>\n",
       "      <td>CANCELADO</td>\n",
       "    </tr>\n",
       "    <tr>\n",
       "      <th>12184</th>\n",
       "      <td>TAP</td>\n",
       "      <td>9560</td>\n",
       "      <td>SBGR</td>\n",
       "      <td>LPPT</td>\n",
       "      <td>07/06/2020 07:05</td>\n",
       "      <td>CANCELADO</td>\n",
       "    </tr>\n",
       "    <tr>\n",
       "      <th>12185</th>\n",
       "      <td>TAP</td>\n",
       "      <td>9560</td>\n",
       "      <td>SBGR</td>\n",
       "      <td>LPPT</td>\n",
       "      <td>17/06/2020 07:05</td>\n",
       "      <td>CANCELADO</td>\n",
       "    </tr>\n",
       "  </tbody>\n",
       "</table>\n",
       "</div>"
      ],
      "text/plain": [
       "      airline flight_number airport_departure airport_arrival  \\\n",
       "57        AFR           443              SBGR            LFPG   \n",
       "3926      BAW          3583              SBGR            EGLL   \n",
       "3927      BAW          3583              SBGR            EGLL   \n",
       "3928      BAW          3583              SBGR            EGLL   \n",
       "3947      CCA           908              SBGR            LEMD   \n",
       "3948      CCA           908              SBGR            LEMD   \n",
       "3949      CCA           908              SBGR            LEMD   \n",
       "3950      CCA           908              SBGR            LEMD   \n",
       "12184     TAP          9560              SBGR            LPPT   \n",
       "12185     TAP          9560              SBGR            LPPT   \n",
       "\n",
       "      est_departure_time     status  \n",
       "57      04/06/2020 15:25  CANCELADO  \n",
       "3926    02/06/2020 16:30  CANCELADO  \n",
       "3927    08/06/2020 16:30  CANCELADO  \n",
       "3928    15/06/2020 16:30  CANCELADO  \n",
       "3947    04/06/2020 18:05  CANCELADO  \n",
       "3948    07/06/2020 18:05  CANCELADO  \n",
       "3949    11/06/2020 18:05  CANCELADO  \n",
       "3950    14/06/2020 18:05  CANCELADO  \n",
       "12184   07/06/2020 07:05  CANCELADO  \n",
       "12185   17/06/2020 07:05  CANCELADO  "
      ]
     },
     "execution_count": 79,
     "metadata": {},
     "output_type": "execute_result"
    }
   ],
   "source": [
    "canceled_gru_to_eu"
   ]
  },
  {
   "cell_type": "markdown",
   "metadata": {},
   "source": [
    "**2. Flights from Europe to Guarulhos**"
   ]
  },
  {
   "cell_type": "code",
   "execution_count": 83,
   "metadata": {},
   "outputs": [],
   "source": [
    "data_eu_to_gru = data_from_europe[data_from_europe[\"airport_arrival\"] == \"SBGR\"]"
   ]
  },
  {
   "cell_type": "code",
   "execution_count": 84,
   "metadata": {},
   "outputs": [
    {
     "data": {
      "text/html": [
       "<div>\n",
       "<style scoped>\n",
       "    .dataframe tbody tr th:only-of-type {\n",
       "        vertical-align: middle;\n",
       "    }\n",
       "\n",
       "    .dataframe tbody tr th {\n",
       "        vertical-align: top;\n",
       "    }\n",
       "\n",
       "    .dataframe thead th {\n",
       "        text-align: right;\n",
       "    }\n",
       "</style>\n",
       "<table border=\"1\" class=\"dataframe\">\n",
       "  <thead>\n",
       "    <tr style=\"text-align: right;\">\n",
       "      <th></th>\n",
       "      <th>airline</th>\n",
       "      <th>flight_number</th>\n",
       "      <th>airport_departure</th>\n",
       "      <th>airport_arrival</th>\n",
       "      <th>est_departure_time</th>\n",
       "      <th>status</th>\n",
       "    </tr>\n",
       "  </thead>\n",
       "  <tbody>\n",
       "    <tr>\n",
       "      <th>61</th>\n",
       "      <td>AFR</td>\n",
       "      <td>454</td>\n",
       "      <td>LFPG</td>\n",
       "      <td>SBGR</td>\n",
       "      <td>01/06/2020 18:35</td>\n",
       "      <td>REALIZADO</td>\n",
       "    </tr>\n",
       "    <tr>\n",
       "      <th>62</th>\n",
       "      <td>AFR</td>\n",
       "      <td>454</td>\n",
       "      <td>LFPG</td>\n",
       "      <td>SBGR</td>\n",
       "      <td>04/06/2020 18:35</td>\n",
       "      <td>REALIZADO</td>\n",
       "    </tr>\n",
       "    <tr>\n",
       "      <th>63</th>\n",
       "      <td>AFR</td>\n",
       "      <td>454</td>\n",
       "      <td>LFPG</td>\n",
       "      <td>SBGR</td>\n",
       "      <td>06/06/2020 18:35</td>\n",
       "      <td>REALIZADO</td>\n",
       "    </tr>\n",
       "    <tr>\n",
       "      <th>64</th>\n",
       "      <td>AFR</td>\n",
       "      <td>454</td>\n",
       "      <td>LFPG</td>\n",
       "      <td>SBGR</td>\n",
       "      <td>08/06/2020 18:35</td>\n",
       "      <td>REALIZADO</td>\n",
       "    </tr>\n",
       "    <tr>\n",
       "      <th>65</th>\n",
       "      <td>AFR</td>\n",
       "      <td>454</td>\n",
       "      <td>LFPG</td>\n",
       "      <td>SBGR</td>\n",
       "      <td>11/06/2020 18:35</td>\n",
       "      <td>REALIZADO</td>\n",
       "    </tr>\n",
       "    <tr>\n",
       "      <th>...</th>\n",
       "      <td>...</td>\n",
       "      <td>...</td>\n",
       "      <td>...</td>\n",
       "      <td>...</td>\n",
       "      <td>...</td>\n",
       "      <td>...</td>\n",
       "    </tr>\n",
       "    <tr>\n",
       "      <th>12194</th>\n",
       "      <td>TAP</td>\n",
       "      <td>9561</td>\n",
       "      <td>LPPT</td>\n",
       "      <td>SBGR</td>\n",
       "      <td>10/06/2020 07:00</td>\n",
       "      <td>CANCELADO</td>\n",
       "    </tr>\n",
       "    <tr>\n",
       "      <th>12195</th>\n",
       "      <td>TAP</td>\n",
       "      <td>9561</td>\n",
       "      <td>LPPT</td>\n",
       "      <td>SBGR</td>\n",
       "      <td>03/06/2020 06:45</td>\n",
       "      <td>REALIZADO</td>\n",
       "    </tr>\n",
       "    <tr>\n",
       "      <th>12196</th>\n",
       "      <td>TAP</td>\n",
       "      <td>9561</td>\n",
       "      <td>LPPT</td>\n",
       "      <td>SBGR</td>\n",
       "      <td>19/06/2020 06:45</td>\n",
       "      <td>REALIZADO</td>\n",
       "    </tr>\n",
       "    <tr>\n",
       "      <th>12197</th>\n",
       "      <td>TAP</td>\n",
       "      <td>9561</td>\n",
       "      <td>LPPT</td>\n",
       "      <td>SBGR</td>\n",
       "      <td>22/06/2020 06:45</td>\n",
       "      <td>REALIZADO</td>\n",
       "    </tr>\n",
       "    <tr>\n",
       "      <th>12198</th>\n",
       "      <td>TAP</td>\n",
       "      <td>9561</td>\n",
       "      <td>LPPT</td>\n",
       "      <td>SBGR</td>\n",
       "      <td>29/06/2020 06:45</td>\n",
       "      <td>REALIZADO</td>\n",
       "    </tr>\n",
       "  </tbody>\n",
       "</table>\n",
       "<p>168 rows × 6 columns</p>\n",
       "</div>"
      ],
      "text/plain": [
       "      airline flight_number airport_departure airport_arrival  \\\n",
       "61        AFR           454              LFPG            SBGR   \n",
       "62        AFR           454              LFPG            SBGR   \n",
       "63        AFR           454              LFPG            SBGR   \n",
       "64        AFR           454              LFPG            SBGR   \n",
       "65        AFR           454              LFPG            SBGR   \n",
       "...       ...           ...               ...             ...   \n",
       "12194     TAP          9561              LPPT            SBGR   \n",
       "12195     TAP          9561              LPPT            SBGR   \n",
       "12196     TAP          9561              LPPT            SBGR   \n",
       "12197     TAP          9561              LPPT            SBGR   \n",
       "12198     TAP          9561              LPPT            SBGR   \n",
       "\n",
       "      est_departure_time     status  \n",
       "61      01/06/2020 18:35  REALIZADO  \n",
       "62      04/06/2020 18:35  REALIZADO  \n",
       "63      06/06/2020 18:35  REALIZADO  \n",
       "64      08/06/2020 18:35  REALIZADO  \n",
       "65      11/06/2020 18:35  REALIZADO  \n",
       "...                  ...        ...  \n",
       "12194   10/06/2020 07:00  CANCELADO  \n",
       "12195   03/06/2020 06:45  REALIZADO  \n",
       "12196   19/06/2020 06:45  REALIZADO  \n",
       "12197   22/06/2020 06:45  REALIZADO  \n",
       "12198   29/06/2020 06:45  REALIZADO  \n",
       "\n",
       "[168 rows x 6 columns]"
      ]
     },
     "execution_count": 84,
     "metadata": {},
     "output_type": "execute_result"
    }
   ],
   "source": [
    "data_eu_to_gru"
   ]
  },
  {
   "cell_type": "markdown",
   "metadata": {},
   "source": [
    "- Confirmed Flights from Europe to Guarulhos"
   ]
  },
  {
   "cell_type": "code",
   "execution_count": 85,
   "metadata": {},
   "outputs": [],
   "source": [
    "confirmed_from_eu = data_eu_to_gru[data_eu_to_gru[\"status\"] == 'REALIZADO']"
   ]
  },
  {
   "cell_type": "code",
   "execution_count": 86,
   "metadata": {
    "scrolled": true
   },
   "outputs": [
    {
     "data": {
      "text/html": [
       "<div>\n",
       "<style scoped>\n",
       "    .dataframe tbody tr th:only-of-type {\n",
       "        vertical-align: middle;\n",
       "    }\n",
       "\n",
       "    .dataframe tbody tr th {\n",
       "        vertical-align: top;\n",
       "    }\n",
       "\n",
       "    .dataframe thead th {\n",
       "        text-align: right;\n",
       "    }\n",
       "</style>\n",
       "<table border=\"1\" class=\"dataframe\">\n",
       "  <thead>\n",
       "    <tr style=\"text-align: right;\">\n",
       "      <th></th>\n",
       "      <th>airline</th>\n",
       "      <th>flight_number</th>\n",
       "      <th>airport_departure</th>\n",
       "      <th>airport_arrival</th>\n",
       "      <th>est_departure_time</th>\n",
       "      <th>status</th>\n",
       "    </tr>\n",
       "  </thead>\n",
       "  <tbody>\n",
       "    <tr>\n",
       "      <th>61</th>\n",
       "      <td>AFR</td>\n",
       "      <td>454</td>\n",
       "      <td>LFPG</td>\n",
       "      <td>SBGR</td>\n",
       "      <td>01/06/2020 18:35</td>\n",
       "      <td>REALIZADO</td>\n",
       "    </tr>\n",
       "    <tr>\n",
       "      <th>62</th>\n",
       "      <td>AFR</td>\n",
       "      <td>454</td>\n",
       "      <td>LFPG</td>\n",
       "      <td>SBGR</td>\n",
       "      <td>04/06/2020 18:35</td>\n",
       "      <td>REALIZADO</td>\n",
       "    </tr>\n",
       "    <tr>\n",
       "      <th>63</th>\n",
       "      <td>AFR</td>\n",
       "      <td>454</td>\n",
       "      <td>LFPG</td>\n",
       "      <td>SBGR</td>\n",
       "      <td>06/06/2020 18:35</td>\n",
       "      <td>REALIZADO</td>\n",
       "    </tr>\n",
       "    <tr>\n",
       "      <th>64</th>\n",
       "      <td>AFR</td>\n",
       "      <td>454</td>\n",
       "      <td>LFPG</td>\n",
       "      <td>SBGR</td>\n",
       "      <td>08/06/2020 18:35</td>\n",
       "      <td>REALIZADO</td>\n",
       "    </tr>\n",
       "    <tr>\n",
       "      <th>65</th>\n",
       "      <td>AFR</td>\n",
       "      <td>454</td>\n",
       "      <td>LFPG</td>\n",
       "      <td>SBGR</td>\n",
       "      <td>11/06/2020 18:35</td>\n",
       "      <td>REALIZADO</td>\n",
       "    </tr>\n",
       "    <tr>\n",
       "      <th>...</th>\n",
       "      <td>...</td>\n",
       "      <td>...</td>\n",
       "      <td>...</td>\n",
       "      <td>...</td>\n",
       "      <td>...</td>\n",
       "      <td>...</td>\n",
       "    </tr>\n",
       "    <tr>\n",
       "      <th>12192</th>\n",
       "      <td>TAP</td>\n",
       "      <td>9561</td>\n",
       "      <td>LPPT</td>\n",
       "      <td>SBGR</td>\n",
       "      <td>17/06/2020 06:45</td>\n",
       "      <td>REALIZADO</td>\n",
       "    </tr>\n",
       "    <tr>\n",
       "      <th>12195</th>\n",
       "      <td>TAP</td>\n",
       "      <td>9561</td>\n",
       "      <td>LPPT</td>\n",
       "      <td>SBGR</td>\n",
       "      <td>03/06/2020 06:45</td>\n",
       "      <td>REALIZADO</td>\n",
       "    </tr>\n",
       "    <tr>\n",
       "      <th>12196</th>\n",
       "      <td>TAP</td>\n",
       "      <td>9561</td>\n",
       "      <td>LPPT</td>\n",
       "      <td>SBGR</td>\n",
       "      <td>19/06/2020 06:45</td>\n",
       "      <td>REALIZADO</td>\n",
       "    </tr>\n",
       "    <tr>\n",
       "      <th>12197</th>\n",
       "      <td>TAP</td>\n",
       "      <td>9561</td>\n",
       "      <td>LPPT</td>\n",
       "      <td>SBGR</td>\n",
       "      <td>22/06/2020 06:45</td>\n",
       "      <td>REALIZADO</td>\n",
       "    </tr>\n",
       "    <tr>\n",
       "      <th>12198</th>\n",
       "      <td>TAP</td>\n",
       "      <td>9561</td>\n",
       "      <td>LPPT</td>\n",
       "      <td>SBGR</td>\n",
       "      <td>29/06/2020 06:45</td>\n",
       "      <td>REALIZADO</td>\n",
       "    </tr>\n",
       "  </tbody>\n",
       "</table>\n",
       "<p>143 rows × 6 columns</p>\n",
       "</div>"
      ],
      "text/plain": [
       "      airline flight_number airport_departure airport_arrival  \\\n",
       "61        AFR           454              LFPG            SBGR   \n",
       "62        AFR           454              LFPG            SBGR   \n",
       "63        AFR           454              LFPG            SBGR   \n",
       "64        AFR           454              LFPG            SBGR   \n",
       "65        AFR           454              LFPG            SBGR   \n",
       "...       ...           ...               ...             ...   \n",
       "12192     TAP          9561              LPPT            SBGR   \n",
       "12195     TAP          9561              LPPT            SBGR   \n",
       "12196     TAP          9561              LPPT            SBGR   \n",
       "12197     TAP          9561              LPPT            SBGR   \n",
       "12198     TAP          9561              LPPT            SBGR   \n",
       "\n",
       "      est_departure_time     status  \n",
       "61      01/06/2020 18:35  REALIZADO  \n",
       "62      04/06/2020 18:35  REALIZADO  \n",
       "63      06/06/2020 18:35  REALIZADO  \n",
       "64      08/06/2020 18:35  REALIZADO  \n",
       "65      11/06/2020 18:35  REALIZADO  \n",
       "...                  ...        ...  \n",
       "12192   17/06/2020 06:45  REALIZADO  \n",
       "12195   03/06/2020 06:45  REALIZADO  \n",
       "12196   19/06/2020 06:45  REALIZADO  \n",
       "12197   22/06/2020 06:45  REALIZADO  \n",
       "12198   29/06/2020 06:45  REALIZADO  \n",
       "\n",
       "[143 rows x 6 columns]"
      ]
     },
     "execution_count": 86,
     "metadata": {},
     "output_type": "execute_result"
    }
   ],
   "source": [
    "confirmed_from_eu"
   ]
  },
  {
   "cell_type": "markdown",
   "metadata": {},
   "source": [
    "- Canceled flights from Europe to Guarulhos"
   ]
  },
  {
   "cell_type": "code",
   "execution_count": 87,
   "metadata": {},
   "outputs": [],
   "source": [
    "canceled_from_eu = data_eu_to_gru[data_eu_to_gru[\"status\"] == 'CANCELADO']"
   ]
  },
  {
   "cell_type": "code",
   "execution_count": 88,
   "metadata": {},
   "outputs": [
    {
     "data": {
      "text/html": [
       "<div>\n",
       "<style scoped>\n",
       "    .dataframe tbody tr th:only-of-type {\n",
       "        vertical-align: middle;\n",
       "    }\n",
       "\n",
       "    .dataframe tbody tr th {\n",
       "        vertical-align: top;\n",
       "    }\n",
       "\n",
       "    .dataframe thead th {\n",
       "        text-align: right;\n",
       "    }\n",
       "</style>\n",
       "<table border=\"1\" class=\"dataframe\">\n",
       "  <thead>\n",
       "    <tr style=\"text-align: right;\">\n",
       "      <th></th>\n",
       "      <th>airline</th>\n",
       "      <th>flight_number</th>\n",
       "      <th>airport_departure</th>\n",
       "      <th>airport_arrival</th>\n",
       "      <th>est_departure_time</th>\n",
       "      <th>status</th>\n",
       "    </tr>\n",
       "  </thead>\n",
       "  <tbody>\n",
       "    <tr>\n",
       "      <th>3899</th>\n",
       "      <td>BAW</td>\n",
       "      <td>247</td>\n",
       "      <td>EGLL</td>\n",
       "      <td>SBGR</td>\n",
       "      <td>18/06/2020 18:25</td>\n",
       "      <td>CANCELADO</td>\n",
       "    </tr>\n",
       "    <tr>\n",
       "      <th>3900</th>\n",
       "      <td>BAW</td>\n",
       "      <td>247</td>\n",
       "      <td>EGLL</td>\n",
       "      <td>SBGR</td>\n",
       "      <td>30/06/2020 18:25</td>\n",
       "      <td>CANCELADO</td>\n",
       "    </tr>\n",
       "    <tr>\n",
       "      <th>3921</th>\n",
       "      <td>BAW</td>\n",
       "      <td>247</td>\n",
       "      <td>EGLL</td>\n",
       "      <td>SBGR</td>\n",
       "      <td>10/06/2020 18:25</td>\n",
       "      <td>CANCELADO</td>\n",
       "    </tr>\n",
       "    <tr>\n",
       "      <th>3923</th>\n",
       "      <td>BAW</td>\n",
       "      <td>3582</td>\n",
       "      <td>EGLL</td>\n",
       "      <td>SBGR</td>\n",
       "      <td>01/06/2020 17:25</td>\n",
       "      <td>CANCELADO</td>\n",
       "    </tr>\n",
       "    <tr>\n",
       "      <th>3924</th>\n",
       "      <td>BAW</td>\n",
       "      <td>3582</td>\n",
       "      <td>EGLL</td>\n",
       "      <td>SBGR</td>\n",
       "      <td>07/06/2020 17:25</td>\n",
       "      <td>CANCELADO</td>\n",
       "    </tr>\n",
       "    <tr>\n",
       "      <th>3925</th>\n",
       "      <td>BAW</td>\n",
       "      <td>3582</td>\n",
       "      <td>EGLL</td>\n",
       "      <td>SBGR</td>\n",
       "      <td>14/06/2020 17:25</td>\n",
       "      <td>CANCELADO</td>\n",
       "    </tr>\n",
       "    <tr>\n",
       "      <th>3935</th>\n",
       "      <td>CCA</td>\n",
       "      <td>907</td>\n",
       "      <td>LEMD</td>\n",
       "      <td>SBGR</td>\n",
       "      <td>04/06/2020 03:45</td>\n",
       "      <td>CANCELADO</td>\n",
       "    </tr>\n",
       "    <tr>\n",
       "      <th>3936</th>\n",
       "      <td>CCA</td>\n",
       "      <td>907</td>\n",
       "      <td>LEMD</td>\n",
       "      <td>SBGR</td>\n",
       "      <td>07/06/2020 03:45</td>\n",
       "      <td>CANCELADO</td>\n",
       "    </tr>\n",
       "    <tr>\n",
       "      <th>3937</th>\n",
       "      <td>CCA</td>\n",
       "      <td>907</td>\n",
       "      <td>LEMD</td>\n",
       "      <td>SBGR</td>\n",
       "      <td>11/06/2020 03:45</td>\n",
       "      <td>CANCELADO</td>\n",
       "    </tr>\n",
       "    <tr>\n",
       "      <th>3938</th>\n",
       "      <td>CCA</td>\n",
       "      <td>907</td>\n",
       "      <td>LEMD</td>\n",
       "      <td>SBGR</td>\n",
       "      <td>14/06/2020 03:45</td>\n",
       "      <td>CANCELADO</td>\n",
       "    </tr>\n",
       "    <tr>\n",
       "      <th>9621</th>\n",
       "      <td>QTR</td>\n",
       "      <td>8155</td>\n",
       "      <td>ELLX</td>\n",
       "      <td>SBGR</td>\n",
       "      <td>09/06/2020 10:45</td>\n",
       "      <td>CANCELADO</td>\n",
       "    </tr>\n",
       "    <tr>\n",
       "      <th>9622</th>\n",
       "      <td>QTR</td>\n",
       "      <td>8155</td>\n",
       "      <td>ELLX</td>\n",
       "      <td>SBGR</td>\n",
       "      <td>16/06/2020 14:55</td>\n",
       "      <td>CANCELADO</td>\n",
       "    </tr>\n",
       "    <tr>\n",
       "      <th>9623</th>\n",
       "      <td>QTR</td>\n",
       "      <td>8155</td>\n",
       "      <td>ELLX</td>\n",
       "      <td>SBGR</td>\n",
       "      <td>23/06/2020 10:45</td>\n",
       "      <td>CANCELADO</td>\n",
       "    </tr>\n",
       "    <tr>\n",
       "      <th>9624</th>\n",
       "      <td>QTR</td>\n",
       "      <td>8155</td>\n",
       "      <td>ELLX</td>\n",
       "      <td>SBGR</td>\n",
       "      <td>30/06/2020 10:45</td>\n",
       "      <td>CANCELADO</td>\n",
       "    </tr>\n",
       "    <tr>\n",
       "      <th>9627</th>\n",
       "      <td>QTR</td>\n",
       "      <td>8155</td>\n",
       "      <td>LFSB</td>\n",
       "      <td>SBGR</td>\n",
       "      <td>02/06/2020 11:20</td>\n",
       "      <td>CANCELADO</td>\n",
       "    </tr>\n",
       "    <tr>\n",
       "      <th>9653</th>\n",
       "      <td>QTR</td>\n",
       "      <td>8157</td>\n",
       "      <td>ELLX</td>\n",
       "      <td>SBGR</td>\n",
       "      <td>08/06/2020 10:45</td>\n",
       "      <td>CANCELADO</td>\n",
       "    </tr>\n",
       "    <tr>\n",
       "      <th>9654</th>\n",
       "      <td>QTR</td>\n",
       "      <td>8157</td>\n",
       "      <td>ELLX</td>\n",
       "      <td>SBGR</td>\n",
       "      <td>11/06/2020 09:00</td>\n",
       "      <td>CANCELADO</td>\n",
       "    </tr>\n",
       "    <tr>\n",
       "      <th>9655</th>\n",
       "      <td>QTR</td>\n",
       "      <td>8157</td>\n",
       "      <td>ELLX</td>\n",
       "      <td>SBGR</td>\n",
       "      <td>15/06/2020 09:55</td>\n",
       "      <td>CANCELADO</td>\n",
       "    </tr>\n",
       "    <tr>\n",
       "      <th>9656</th>\n",
       "      <td>QTR</td>\n",
       "      <td>8157</td>\n",
       "      <td>ELLX</td>\n",
       "      <td>SBGR</td>\n",
       "      <td>22/06/2020 09:55</td>\n",
       "      <td>CANCELADO</td>\n",
       "    </tr>\n",
       "    <tr>\n",
       "      <th>9657</th>\n",
       "      <td>QTR</td>\n",
       "      <td>8157</td>\n",
       "      <td>ELLX</td>\n",
       "      <td>SBGR</td>\n",
       "      <td>25/06/2020 12:25</td>\n",
       "      <td>CANCELADO</td>\n",
       "    </tr>\n",
       "    <tr>\n",
       "      <th>9658</th>\n",
       "      <td>QTR</td>\n",
       "      <td>8157</td>\n",
       "      <td>ELLX</td>\n",
       "      <td>SBGR</td>\n",
       "      <td>29/06/2020 15:55</td>\n",
       "      <td>CANCELADO</td>\n",
       "    </tr>\n",
       "    <tr>\n",
       "      <th>9659</th>\n",
       "      <td>QTR</td>\n",
       "      <td>8157</td>\n",
       "      <td>LFSB</td>\n",
       "      <td>SBGR</td>\n",
       "      <td>04/06/2020 09:35</td>\n",
       "      <td>CANCELADO</td>\n",
       "    </tr>\n",
       "    <tr>\n",
       "      <th>12034</th>\n",
       "      <td>TAM</td>\n",
       "      <td>8071</td>\n",
       "      <td>EDDF</td>\n",
       "      <td>SBGR</td>\n",
       "      <td>26/06/2020 15:40</td>\n",
       "      <td>CANCELADO</td>\n",
       "    </tr>\n",
       "    <tr>\n",
       "      <th>12193</th>\n",
       "      <td>TAP</td>\n",
       "      <td>9561</td>\n",
       "      <td>LPPT</td>\n",
       "      <td>SBGR</td>\n",
       "      <td>05/06/2020 06:45</td>\n",
       "      <td>CANCELADO</td>\n",
       "    </tr>\n",
       "    <tr>\n",
       "      <th>12194</th>\n",
       "      <td>TAP</td>\n",
       "      <td>9561</td>\n",
       "      <td>LPPT</td>\n",
       "      <td>SBGR</td>\n",
       "      <td>10/06/2020 07:00</td>\n",
       "      <td>CANCELADO</td>\n",
       "    </tr>\n",
       "  </tbody>\n",
       "</table>\n",
       "</div>"
      ],
      "text/plain": [
       "      airline flight_number airport_departure airport_arrival  \\\n",
       "3899      BAW           247              EGLL            SBGR   \n",
       "3900      BAW           247              EGLL            SBGR   \n",
       "3921      BAW           247              EGLL            SBGR   \n",
       "3923      BAW          3582              EGLL            SBGR   \n",
       "3924      BAW          3582              EGLL            SBGR   \n",
       "3925      BAW          3582              EGLL            SBGR   \n",
       "3935      CCA           907              LEMD            SBGR   \n",
       "3936      CCA           907              LEMD            SBGR   \n",
       "3937      CCA           907              LEMD            SBGR   \n",
       "3938      CCA           907              LEMD            SBGR   \n",
       "9621      QTR          8155              ELLX            SBGR   \n",
       "9622      QTR          8155              ELLX            SBGR   \n",
       "9623      QTR          8155              ELLX            SBGR   \n",
       "9624      QTR          8155              ELLX            SBGR   \n",
       "9627      QTR          8155              LFSB            SBGR   \n",
       "9653      QTR          8157              ELLX            SBGR   \n",
       "9654      QTR          8157              ELLX            SBGR   \n",
       "9655      QTR          8157              ELLX            SBGR   \n",
       "9656      QTR          8157              ELLX            SBGR   \n",
       "9657      QTR          8157              ELLX            SBGR   \n",
       "9658      QTR          8157              ELLX            SBGR   \n",
       "9659      QTR          8157              LFSB            SBGR   \n",
       "12034     TAM          8071              EDDF            SBGR   \n",
       "12193     TAP          9561              LPPT            SBGR   \n",
       "12194     TAP          9561              LPPT            SBGR   \n",
       "\n",
       "      est_departure_time     status  \n",
       "3899    18/06/2020 18:25  CANCELADO  \n",
       "3900    30/06/2020 18:25  CANCELADO  \n",
       "3921    10/06/2020 18:25  CANCELADO  \n",
       "3923    01/06/2020 17:25  CANCELADO  \n",
       "3924    07/06/2020 17:25  CANCELADO  \n",
       "3925    14/06/2020 17:25  CANCELADO  \n",
       "3935    04/06/2020 03:45  CANCELADO  \n",
       "3936    07/06/2020 03:45  CANCELADO  \n",
       "3937    11/06/2020 03:45  CANCELADO  \n",
       "3938    14/06/2020 03:45  CANCELADO  \n",
       "9621    09/06/2020 10:45  CANCELADO  \n",
       "9622    16/06/2020 14:55  CANCELADO  \n",
       "9623    23/06/2020 10:45  CANCELADO  \n",
       "9624    30/06/2020 10:45  CANCELADO  \n",
       "9627    02/06/2020 11:20  CANCELADO  \n",
       "9653    08/06/2020 10:45  CANCELADO  \n",
       "9654    11/06/2020 09:00  CANCELADO  \n",
       "9655    15/06/2020 09:55  CANCELADO  \n",
       "9656    22/06/2020 09:55  CANCELADO  \n",
       "9657    25/06/2020 12:25  CANCELADO  \n",
       "9658    29/06/2020 15:55  CANCELADO  \n",
       "9659    04/06/2020 09:35  CANCELADO  \n",
       "12034   26/06/2020 15:40  CANCELADO  \n",
       "12193   05/06/2020 06:45  CANCELADO  \n",
       "12194   10/06/2020 07:00  CANCELADO  "
      ]
     },
     "execution_count": 88,
     "metadata": {},
     "output_type": "execute_result"
    }
   ],
   "source": [
    "canceled_from_eu "
   ]
  },
  {
   "cell_type": "markdown",
   "metadata": {},
   "source": [
    "## Analyzing flights from GRU Airport to Europe in June 2020"
   ]
  },
  {
   "cell_type": "code",
   "execution_count": 217,
   "metadata": {},
   "outputs": [
    {
     "data": {
      "application/vnd.plotly.v1+json": {
       "config": {
        "plotlyServerURL": "https://plot.ly"
       },
       "data": [
        {
         "domain": {
          "x": [
           0,
           1
          ],
          "y": [
           0,
           1
          ]
         },
         "hovertemplate": "index=%{label}<br>status=%{value}<extra></extra>",
         "labels": [
          "REALIZADO",
          "CANCELADO"
         ],
         "legendgroup": "",
         "name": "",
         "showlegend": true,
         "type": "pie",
         "values": [
          135,
          10
         ]
        }
       ],
       "layout": {
        "legend": {
         "tracegroupgap": 0
        },
        "piecolorway": [
         "rgb(0, 147, 146)",
         "rgb(57, 177, 133)",
         "rgb(156, 203, 134)",
         "rgb(233, 226, 156)",
         "rgb(238, 180, 121)",
         "rgb(232, 132, 113)",
         "rgb(207, 89, 126)"
        ],
        "template": {
         "data": {
          "bar": [
           {
            "error_x": {
             "color": "#2a3f5f"
            },
            "error_y": {
             "color": "#2a3f5f"
            },
            "marker": {
             "line": {
              "color": "#E5ECF6",
              "width": 0.5
             }
            },
            "type": "bar"
           }
          ],
          "barpolar": [
           {
            "marker": {
             "line": {
              "color": "#E5ECF6",
              "width": 0.5
             }
            },
            "type": "barpolar"
           }
          ],
          "carpet": [
           {
            "aaxis": {
             "endlinecolor": "#2a3f5f",
             "gridcolor": "white",
             "linecolor": "white",
             "minorgridcolor": "white",
             "startlinecolor": "#2a3f5f"
            },
            "baxis": {
             "endlinecolor": "#2a3f5f",
             "gridcolor": "white",
             "linecolor": "white",
             "minorgridcolor": "white",
             "startlinecolor": "#2a3f5f"
            },
            "type": "carpet"
           }
          ],
          "choropleth": [
           {
            "colorbar": {
             "outlinewidth": 0,
             "ticks": ""
            },
            "type": "choropleth"
           }
          ],
          "contour": [
           {
            "colorbar": {
             "outlinewidth": 0,
             "ticks": ""
            },
            "colorscale": [
             [
              0,
              "#0d0887"
             ],
             [
              0.1111111111111111,
              "#46039f"
             ],
             [
              0.2222222222222222,
              "#7201a8"
             ],
             [
              0.3333333333333333,
              "#9c179e"
             ],
             [
              0.4444444444444444,
              "#bd3786"
             ],
             [
              0.5555555555555556,
              "#d8576b"
             ],
             [
              0.6666666666666666,
              "#ed7953"
             ],
             [
              0.7777777777777778,
              "#fb9f3a"
             ],
             [
              0.8888888888888888,
              "#fdca26"
             ],
             [
              1,
              "#f0f921"
             ]
            ],
            "type": "contour"
           }
          ],
          "contourcarpet": [
           {
            "colorbar": {
             "outlinewidth": 0,
             "ticks": ""
            },
            "type": "contourcarpet"
           }
          ],
          "heatmap": [
           {
            "colorbar": {
             "outlinewidth": 0,
             "ticks": ""
            },
            "colorscale": [
             [
              0,
              "#0d0887"
             ],
             [
              0.1111111111111111,
              "#46039f"
             ],
             [
              0.2222222222222222,
              "#7201a8"
             ],
             [
              0.3333333333333333,
              "#9c179e"
             ],
             [
              0.4444444444444444,
              "#bd3786"
             ],
             [
              0.5555555555555556,
              "#d8576b"
             ],
             [
              0.6666666666666666,
              "#ed7953"
             ],
             [
              0.7777777777777778,
              "#fb9f3a"
             ],
             [
              0.8888888888888888,
              "#fdca26"
             ],
             [
              1,
              "#f0f921"
             ]
            ],
            "type": "heatmap"
           }
          ],
          "heatmapgl": [
           {
            "colorbar": {
             "outlinewidth": 0,
             "ticks": ""
            },
            "colorscale": [
             [
              0,
              "#0d0887"
             ],
             [
              0.1111111111111111,
              "#46039f"
             ],
             [
              0.2222222222222222,
              "#7201a8"
             ],
             [
              0.3333333333333333,
              "#9c179e"
             ],
             [
              0.4444444444444444,
              "#bd3786"
             ],
             [
              0.5555555555555556,
              "#d8576b"
             ],
             [
              0.6666666666666666,
              "#ed7953"
             ],
             [
              0.7777777777777778,
              "#fb9f3a"
             ],
             [
              0.8888888888888888,
              "#fdca26"
             ],
             [
              1,
              "#f0f921"
             ]
            ],
            "type": "heatmapgl"
           }
          ],
          "histogram": [
           {
            "marker": {
             "colorbar": {
              "outlinewidth": 0,
              "ticks": ""
             }
            },
            "type": "histogram"
           }
          ],
          "histogram2d": [
           {
            "colorbar": {
             "outlinewidth": 0,
             "ticks": ""
            },
            "colorscale": [
             [
              0,
              "#0d0887"
             ],
             [
              0.1111111111111111,
              "#46039f"
             ],
             [
              0.2222222222222222,
              "#7201a8"
             ],
             [
              0.3333333333333333,
              "#9c179e"
             ],
             [
              0.4444444444444444,
              "#bd3786"
             ],
             [
              0.5555555555555556,
              "#d8576b"
             ],
             [
              0.6666666666666666,
              "#ed7953"
             ],
             [
              0.7777777777777778,
              "#fb9f3a"
             ],
             [
              0.8888888888888888,
              "#fdca26"
             ],
             [
              1,
              "#f0f921"
             ]
            ],
            "type": "histogram2d"
           }
          ],
          "histogram2dcontour": [
           {
            "colorbar": {
             "outlinewidth": 0,
             "ticks": ""
            },
            "colorscale": [
             [
              0,
              "#0d0887"
             ],
             [
              0.1111111111111111,
              "#46039f"
             ],
             [
              0.2222222222222222,
              "#7201a8"
             ],
             [
              0.3333333333333333,
              "#9c179e"
             ],
             [
              0.4444444444444444,
              "#bd3786"
             ],
             [
              0.5555555555555556,
              "#d8576b"
             ],
             [
              0.6666666666666666,
              "#ed7953"
             ],
             [
              0.7777777777777778,
              "#fb9f3a"
             ],
             [
              0.8888888888888888,
              "#fdca26"
             ],
             [
              1,
              "#f0f921"
             ]
            ],
            "type": "histogram2dcontour"
           }
          ],
          "mesh3d": [
           {
            "colorbar": {
             "outlinewidth": 0,
             "ticks": ""
            },
            "type": "mesh3d"
           }
          ],
          "parcoords": [
           {
            "line": {
             "colorbar": {
              "outlinewidth": 0,
              "ticks": ""
             }
            },
            "type": "parcoords"
           }
          ],
          "pie": [
           {
            "automargin": true,
            "type": "pie"
           }
          ],
          "scatter": [
           {
            "marker": {
             "colorbar": {
              "outlinewidth": 0,
              "ticks": ""
             }
            },
            "type": "scatter"
           }
          ],
          "scatter3d": [
           {
            "line": {
             "colorbar": {
              "outlinewidth": 0,
              "ticks": ""
             }
            },
            "marker": {
             "colorbar": {
              "outlinewidth": 0,
              "ticks": ""
             }
            },
            "type": "scatter3d"
           }
          ],
          "scattercarpet": [
           {
            "marker": {
             "colorbar": {
              "outlinewidth": 0,
              "ticks": ""
             }
            },
            "type": "scattercarpet"
           }
          ],
          "scattergeo": [
           {
            "marker": {
             "colorbar": {
              "outlinewidth": 0,
              "ticks": ""
             }
            },
            "type": "scattergeo"
           }
          ],
          "scattergl": [
           {
            "marker": {
             "colorbar": {
              "outlinewidth": 0,
              "ticks": ""
             }
            },
            "type": "scattergl"
           }
          ],
          "scattermapbox": [
           {
            "marker": {
             "colorbar": {
              "outlinewidth": 0,
              "ticks": ""
             }
            },
            "type": "scattermapbox"
           }
          ],
          "scatterpolar": [
           {
            "marker": {
             "colorbar": {
              "outlinewidth": 0,
              "ticks": ""
             }
            },
            "type": "scatterpolar"
           }
          ],
          "scatterpolargl": [
           {
            "marker": {
             "colorbar": {
              "outlinewidth": 0,
              "ticks": ""
             }
            },
            "type": "scatterpolargl"
           }
          ],
          "scatterternary": [
           {
            "marker": {
             "colorbar": {
              "outlinewidth": 0,
              "ticks": ""
             }
            },
            "type": "scatterternary"
           }
          ],
          "surface": [
           {
            "colorbar": {
             "outlinewidth": 0,
             "ticks": ""
            },
            "colorscale": [
             [
              0,
              "#0d0887"
             ],
             [
              0.1111111111111111,
              "#46039f"
             ],
             [
              0.2222222222222222,
              "#7201a8"
             ],
             [
              0.3333333333333333,
              "#9c179e"
             ],
             [
              0.4444444444444444,
              "#bd3786"
             ],
             [
              0.5555555555555556,
              "#d8576b"
             ],
             [
              0.6666666666666666,
              "#ed7953"
             ],
             [
              0.7777777777777778,
              "#fb9f3a"
             ],
             [
              0.8888888888888888,
              "#fdca26"
             ],
             [
              1,
              "#f0f921"
             ]
            ],
            "type": "surface"
           }
          ],
          "table": [
           {
            "cells": {
             "fill": {
              "color": "#EBF0F8"
             },
             "line": {
              "color": "white"
             }
            },
            "header": {
             "fill": {
              "color": "#C8D4E3"
             },
             "line": {
              "color": "white"
             }
            },
            "type": "table"
           }
          ]
         },
         "layout": {
          "annotationdefaults": {
           "arrowcolor": "#2a3f5f",
           "arrowhead": 0,
           "arrowwidth": 1
          },
          "coloraxis": {
           "colorbar": {
            "outlinewidth": 0,
            "ticks": ""
           }
          },
          "colorscale": {
           "diverging": [
            [
             0,
             "#8e0152"
            ],
            [
             0.1,
             "#c51b7d"
            ],
            [
             0.2,
             "#de77ae"
            ],
            [
             0.3,
             "#f1b6da"
            ],
            [
             0.4,
             "#fde0ef"
            ],
            [
             0.5,
             "#f7f7f7"
            ],
            [
             0.6,
             "#e6f5d0"
            ],
            [
             0.7,
             "#b8e186"
            ],
            [
             0.8,
             "#7fbc41"
            ],
            [
             0.9,
             "#4d9221"
            ],
            [
             1,
             "#276419"
            ]
           ],
           "sequential": [
            [
             0,
             "#0d0887"
            ],
            [
             0.1111111111111111,
             "#46039f"
            ],
            [
             0.2222222222222222,
             "#7201a8"
            ],
            [
             0.3333333333333333,
             "#9c179e"
            ],
            [
             0.4444444444444444,
             "#bd3786"
            ],
            [
             0.5555555555555556,
             "#d8576b"
            ],
            [
             0.6666666666666666,
             "#ed7953"
            ],
            [
             0.7777777777777778,
             "#fb9f3a"
            ],
            [
             0.8888888888888888,
             "#fdca26"
            ],
            [
             1,
             "#f0f921"
            ]
           ],
           "sequentialminus": [
            [
             0,
             "#0d0887"
            ],
            [
             0.1111111111111111,
             "#46039f"
            ],
            [
             0.2222222222222222,
             "#7201a8"
            ],
            [
             0.3333333333333333,
             "#9c179e"
            ],
            [
             0.4444444444444444,
             "#bd3786"
            ],
            [
             0.5555555555555556,
             "#d8576b"
            ],
            [
             0.6666666666666666,
             "#ed7953"
            ],
            [
             0.7777777777777778,
             "#fb9f3a"
            ],
            [
             0.8888888888888888,
             "#fdca26"
            ],
            [
             1,
             "#f0f921"
            ]
           ]
          },
          "colorway": [
           "#636efa",
           "#EF553B",
           "#00cc96",
           "#ab63fa",
           "#FFA15A",
           "#19d3f3",
           "#FF6692",
           "#B6E880",
           "#FF97FF",
           "#FECB52"
          ],
          "font": {
           "color": "#2a3f5f"
          },
          "geo": {
           "bgcolor": "white",
           "lakecolor": "white",
           "landcolor": "#E5ECF6",
           "showlakes": true,
           "showland": true,
           "subunitcolor": "white"
          },
          "hoverlabel": {
           "align": "left"
          },
          "hovermode": "closest",
          "mapbox": {
           "style": "light"
          },
          "paper_bgcolor": "white",
          "plot_bgcolor": "#E5ECF6",
          "polar": {
           "angularaxis": {
            "gridcolor": "white",
            "linecolor": "white",
            "ticks": ""
           },
           "bgcolor": "#E5ECF6",
           "radialaxis": {
            "gridcolor": "white",
            "linecolor": "white",
            "ticks": ""
           }
          },
          "scene": {
           "xaxis": {
            "backgroundcolor": "#E5ECF6",
            "gridcolor": "white",
            "gridwidth": 2,
            "linecolor": "white",
            "showbackground": true,
            "ticks": "",
            "zerolinecolor": "white"
           },
           "yaxis": {
            "backgroundcolor": "#E5ECF6",
            "gridcolor": "white",
            "gridwidth": 2,
            "linecolor": "white",
            "showbackground": true,
            "ticks": "",
            "zerolinecolor": "white"
           },
           "zaxis": {
            "backgroundcolor": "#E5ECF6",
            "gridcolor": "white",
            "gridwidth": 2,
            "linecolor": "white",
            "showbackground": true,
            "ticks": "",
            "zerolinecolor": "white"
           }
          },
          "shapedefaults": {
           "line": {
            "color": "#2a3f5f"
           }
          },
          "ternary": {
           "aaxis": {
            "gridcolor": "white",
            "linecolor": "white",
            "ticks": ""
           },
           "baxis": {
            "gridcolor": "white",
            "linecolor": "white",
            "ticks": ""
           },
           "bgcolor": "#E5ECF6",
           "caxis": {
            "gridcolor": "white",
            "linecolor": "white",
            "ticks": ""
           }
          },
          "title": {
           "x": 0.05
          },
          "xaxis": {
           "automargin": true,
           "gridcolor": "white",
           "linecolor": "white",
           "ticks": "",
           "title": {
            "standoff": 15
           },
           "zerolinecolor": "white",
           "zerolinewidth": 2
          },
          "yaxis": {
           "automargin": true,
           "gridcolor": "white",
           "linecolor": "white",
           "ticks": "",
           "title": {
            "standoff": 15
           },
           "zerolinecolor": "white",
           "zerolinewidth": 2
          }
         }
        },
        "title": {
         "text": "GRU to Europe: confirmed vs. canceled"
        }
       }
      },
      "text/html": [
       "<div>\n",
       "        \n",
       "        \n",
       "            <div id=\"bd641edc-5d32-4c01-8308-a691620fa6bb\" class=\"plotly-graph-div\" style=\"height:525px; width:100%;\"></div>\n",
       "            <script type=\"text/javascript\">\n",
       "                require([\"plotly\"], function(Plotly) {\n",
       "                    window.PLOTLYENV=window.PLOTLYENV || {};\n",
       "                    \n",
       "                if (document.getElementById(\"bd641edc-5d32-4c01-8308-a691620fa6bb\")) {\n",
       "                    Plotly.newPlot(\n",
       "                        'bd641edc-5d32-4c01-8308-a691620fa6bb',\n",
       "                        [{\"domain\": {\"x\": [0.0, 1.0], \"y\": [0.0, 1.0]}, \"hovertemplate\": \"index=%{label}<br>status=%{value}<extra></extra>\", \"labels\": [\"REALIZADO\", \"CANCELADO\"], \"legendgroup\": \"\", \"name\": \"\", \"showlegend\": true, \"type\": \"pie\", \"values\": [135, 10]}],\n",
       "                        {\"legend\": {\"tracegroupgap\": 0}, \"piecolorway\": [\"rgb(0, 147, 146)\", \"rgb(57, 177, 133)\", \"rgb(156, 203, 134)\", \"rgb(233, 226, 156)\", \"rgb(238, 180, 121)\", \"rgb(232, 132, 113)\", \"rgb(207, 89, 126)\"], \"template\": {\"data\": {\"bar\": [{\"error_x\": {\"color\": \"#2a3f5f\"}, \"error_y\": {\"color\": \"#2a3f5f\"}, \"marker\": {\"line\": {\"color\": \"#E5ECF6\", \"width\": 0.5}}, \"type\": \"bar\"}], \"barpolar\": [{\"marker\": {\"line\": {\"color\": \"#E5ECF6\", \"width\": 0.5}}, \"type\": \"barpolar\"}], \"carpet\": [{\"aaxis\": {\"endlinecolor\": \"#2a3f5f\", \"gridcolor\": \"white\", \"linecolor\": \"white\", \"minorgridcolor\": \"white\", \"startlinecolor\": \"#2a3f5f\"}, \"baxis\": {\"endlinecolor\": \"#2a3f5f\", \"gridcolor\": \"white\", \"linecolor\": \"white\", \"minorgridcolor\": \"white\", \"startlinecolor\": \"#2a3f5f\"}, \"type\": \"carpet\"}], \"choropleth\": [{\"colorbar\": {\"outlinewidth\": 0, \"ticks\": \"\"}, \"type\": \"choropleth\"}], \"contour\": [{\"colorbar\": {\"outlinewidth\": 0, \"ticks\": \"\"}, \"colorscale\": [[0.0, \"#0d0887\"], [0.1111111111111111, \"#46039f\"], [0.2222222222222222, \"#7201a8\"], [0.3333333333333333, \"#9c179e\"], [0.4444444444444444, \"#bd3786\"], [0.5555555555555556, \"#d8576b\"], [0.6666666666666666, \"#ed7953\"], [0.7777777777777778, \"#fb9f3a\"], [0.8888888888888888, \"#fdca26\"], [1.0, \"#f0f921\"]], \"type\": \"contour\"}], \"contourcarpet\": [{\"colorbar\": {\"outlinewidth\": 0, \"ticks\": \"\"}, \"type\": \"contourcarpet\"}], \"heatmap\": [{\"colorbar\": {\"outlinewidth\": 0, \"ticks\": \"\"}, \"colorscale\": [[0.0, \"#0d0887\"], [0.1111111111111111, \"#46039f\"], [0.2222222222222222, \"#7201a8\"], [0.3333333333333333, \"#9c179e\"], [0.4444444444444444, \"#bd3786\"], [0.5555555555555556, \"#d8576b\"], [0.6666666666666666, \"#ed7953\"], [0.7777777777777778, \"#fb9f3a\"], [0.8888888888888888, \"#fdca26\"], [1.0, \"#f0f921\"]], \"type\": \"heatmap\"}], \"heatmapgl\": [{\"colorbar\": {\"outlinewidth\": 0, \"ticks\": \"\"}, \"colorscale\": [[0.0, \"#0d0887\"], [0.1111111111111111, \"#46039f\"], [0.2222222222222222, \"#7201a8\"], [0.3333333333333333, \"#9c179e\"], [0.4444444444444444, \"#bd3786\"], [0.5555555555555556, \"#d8576b\"], [0.6666666666666666, \"#ed7953\"], [0.7777777777777778, \"#fb9f3a\"], [0.8888888888888888, \"#fdca26\"], [1.0, \"#f0f921\"]], \"type\": \"heatmapgl\"}], \"histogram\": [{\"marker\": {\"colorbar\": {\"outlinewidth\": 0, \"ticks\": \"\"}}, \"type\": \"histogram\"}], \"histogram2d\": [{\"colorbar\": {\"outlinewidth\": 0, \"ticks\": \"\"}, \"colorscale\": [[0.0, \"#0d0887\"], [0.1111111111111111, \"#46039f\"], [0.2222222222222222, \"#7201a8\"], [0.3333333333333333, \"#9c179e\"], [0.4444444444444444, \"#bd3786\"], [0.5555555555555556, \"#d8576b\"], [0.6666666666666666, \"#ed7953\"], [0.7777777777777778, \"#fb9f3a\"], [0.8888888888888888, \"#fdca26\"], [1.0, \"#f0f921\"]], \"type\": \"histogram2d\"}], \"histogram2dcontour\": [{\"colorbar\": {\"outlinewidth\": 0, \"ticks\": \"\"}, \"colorscale\": [[0.0, \"#0d0887\"], [0.1111111111111111, \"#46039f\"], [0.2222222222222222, \"#7201a8\"], [0.3333333333333333, \"#9c179e\"], [0.4444444444444444, \"#bd3786\"], [0.5555555555555556, \"#d8576b\"], [0.6666666666666666, \"#ed7953\"], [0.7777777777777778, \"#fb9f3a\"], [0.8888888888888888, \"#fdca26\"], [1.0, \"#f0f921\"]], \"type\": \"histogram2dcontour\"}], \"mesh3d\": [{\"colorbar\": {\"outlinewidth\": 0, \"ticks\": \"\"}, \"type\": \"mesh3d\"}], \"parcoords\": [{\"line\": {\"colorbar\": {\"outlinewidth\": 0, \"ticks\": \"\"}}, \"type\": \"parcoords\"}], \"pie\": [{\"automargin\": true, \"type\": \"pie\"}], \"scatter\": [{\"marker\": {\"colorbar\": {\"outlinewidth\": 0, \"ticks\": \"\"}}, \"type\": \"scatter\"}], \"scatter3d\": [{\"line\": {\"colorbar\": {\"outlinewidth\": 0, \"ticks\": \"\"}}, \"marker\": {\"colorbar\": {\"outlinewidth\": 0, \"ticks\": \"\"}}, \"type\": \"scatter3d\"}], \"scattercarpet\": [{\"marker\": {\"colorbar\": {\"outlinewidth\": 0, \"ticks\": \"\"}}, \"type\": \"scattercarpet\"}], \"scattergeo\": [{\"marker\": {\"colorbar\": {\"outlinewidth\": 0, \"ticks\": \"\"}}, \"type\": \"scattergeo\"}], \"scattergl\": [{\"marker\": {\"colorbar\": {\"outlinewidth\": 0, \"ticks\": \"\"}}, \"type\": \"scattergl\"}], \"scattermapbox\": [{\"marker\": {\"colorbar\": {\"outlinewidth\": 0, \"ticks\": \"\"}}, \"type\": \"scattermapbox\"}], \"scatterpolar\": [{\"marker\": {\"colorbar\": {\"outlinewidth\": 0, \"ticks\": \"\"}}, \"type\": \"scatterpolar\"}], \"scatterpolargl\": [{\"marker\": {\"colorbar\": {\"outlinewidth\": 0, \"ticks\": \"\"}}, \"type\": \"scatterpolargl\"}], \"scatterternary\": [{\"marker\": {\"colorbar\": {\"outlinewidth\": 0, \"ticks\": \"\"}}, \"type\": \"scatterternary\"}], \"surface\": [{\"colorbar\": {\"outlinewidth\": 0, \"ticks\": \"\"}, \"colorscale\": [[0.0, \"#0d0887\"], [0.1111111111111111, \"#46039f\"], [0.2222222222222222, \"#7201a8\"], [0.3333333333333333, \"#9c179e\"], [0.4444444444444444, \"#bd3786\"], [0.5555555555555556, \"#d8576b\"], [0.6666666666666666, \"#ed7953\"], [0.7777777777777778, \"#fb9f3a\"], [0.8888888888888888, \"#fdca26\"], [1.0, \"#f0f921\"]], \"type\": \"surface\"}], \"table\": [{\"cells\": {\"fill\": {\"color\": \"#EBF0F8\"}, \"line\": {\"color\": \"white\"}}, \"header\": {\"fill\": {\"color\": \"#C8D4E3\"}, \"line\": {\"color\": \"white\"}}, \"type\": \"table\"}]}, \"layout\": {\"annotationdefaults\": {\"arrowcolor\": \"#2a3f5f\", \"arrowhead\": 0, \"arrowwidth\": 1}, \"coloraxis\": {\"colorbar\": {\"outlinewidth\": 0, \"ticks\": \"\"}}, \"colorscale\": {\"diverging\": [[0, \"#8e0152\"], [0.1, \"#c51b7d\"], [0.2, \"#de77ae\"], [0.3, \"#f1b6da\"], [0.4, \"#fde0ef\"], [0.5, \"#f7f7f7\"], [0.6, \"#e6f5d0\"], [0.7, \"#b8e186\"], [0.8, \"#7fbc41\"], [0.9, \"#4d9221\"], [1, \"#276419\"]], \"sequential\": [[0.0, \"#0d0887\"], [0.1111111111111111, \"#46039f\"], [0.2222222222222222, \"#7201a8\"], [0.3333333333333333, \"#9c179e\"], [0.4444444444444444, \"#bd3786\"], [0.5555555555555556, \"#d8576b\"], [0.6666666666666666, \"#ed7953\"], [0.7777777777777778, \"#fb9f3a\"], [0.8888888888888888, \"#fdca26\"], [1.0, \"#f0f921\"]], \"sequentialminus\": [[0.0, \"#0d0887\"], [0.1111111111111111, \"#46039f\"], [0.2222222222222222, \"#7201a8\"], [0.3333333333333333, \"#9c179e\"], [0.4444444444444444, \"#bd3786\"], [0.5555555555555556, \"#d8576b\"], [0.6666666666666666, \"#ed7953\"], [0.7777777777777778, \"#fb9f3a\"], [0.8888888888888888, \"#fdca26\"], [1.0, \"#f0f921\"]]}, \"colorway\": [\"#636efa\", \"#EF553B\", \"#00cc96\", \"#ab63fa\", \"#FFA15A\", \"#19d3f3\", \"#FF6692\", \"#B6E880\", \"#FF97FF\", \"#FECB52\"], \"font\": {\"color\": \"#2a3f5f\"}, \"geo\": {\"bgcolor\": \"white\", \"lakecolor\": \"white\", \"landcolor\": \"#E5ECF6\", \"showlakes\": true, \"showland\": true, \"subunitcolor\": \"white\"}, \"hoverlabel\": {\"align\": \"left\"}, \"hovermode\": \"closest\", \"mapbox\": {\"style\": \"light\"}, \"paper_bgcolor\": \"white\", \"plot_bgcolor\": \"#E5ECF6\", \"polar\": {\"angularaxis\": {\"gridcolor\": \"white\", \"linecolor\": \"white\", \"ticks\": \"\"}, \"bgcolor\": \"#E5ECF6\", \"radialaxis\": {\"gridcolor\": \"white\", \"linecolor\": \"white\", \"ticks\": \"\"}}, \"scene\": {\"xaxis\": {\"backgroundcolor\": \"#E5ECF6\", \"gridcolor\": \"white\", \"gridwidth\": 2, \"linecolor\": \"white\", \"showbackground\": true, \"ticks\": \"\", \"zerolinecolor\": \"white\"}, \"yaxis\": {\"backgroundcolor\": \"#E5ECF6\", \"gridcolor\": \"white\", \"gridwidth\": 2, \"linecolor\": \"white\", \"showbackground\": true, \"ticks\": \"\", \"zerolinecolor\": \"white\"}, \"zaxis\": {\"backgroundcolor\": \"#E5ECF6\", \"gridcolor\": \"white\", \"gridwidth\": 2, \"linecolor\": \"white\", \"showbackground\": true, \"ticks\": \"\", \"zerolinecolor\": \"white\"}}, \"shapedefaults\": {\"line\": {\"color\": \"#2a3f5f\"}}, \"ternary\": {\"aaxis\": {\"gridcolor\": \"white\", \"linecolor\": \"white\", \"ticks\": \"\"}, \"baxis\": {\"gridcolor\": \"white\", \"linecolor\": \"white\", \"ticks\": \"\"}, \"bgcolor\": \"#E5ECF6\", \"caxis\": {\"gridcolor\": \"white\", \"linecolor\": \"white\", \"ticks\": \"\"}}, \"title\": {\"x\": 0.05}, \"xaxis\": {\"automargin\": true, \"gridcolor\": \"white\", \"linecolor\": \"white\", \"ticks\": \"\", \"title\": {\"standoff\": 15}, \"zerolinecolor\": \"white\", \"zerolinewidth\": 2}, \"yaxis\": {\"automargin\": true, \"gridcolor\": \"white\", \"linecolor\": \"white\", \"ticks\": \"\", \"title\": {\"standoff\": 15}, \"zerolinecolor\": \"white\", \"zerolinewidth\": 2}}}, \"title\": {\"text\": \"GRU to Europe: confirmed vs. canceled\"}},\n",
       "                        {\"responsive\": true}\n",
       "                    ).then(function(){\n",
       "                            \n",
       "var gd = document.getElementById('bd641edc-5d32-4c01-8308-a691620fa6bb');\n",
       "var x = new MutationObserver(function (mutations, observer) {{\n",
       "        var display = window.getComputedStyle(gd).display;\n",
       "        if (!display || display === 'none') {{\n",
       "            console.log([gd, 'removed!']);\n",
       "            Plotly.purge(gd);\n",
       "            observer.disconnect();\n",
       "        }}\n",
       "}});\n",
       "\n",
       "// Listen for the removal of the full notebook cells\n",
       "var notebookContainer = gd.closest('#notebook-container');\n",
       "if (notebookContainer) {{\n",
       "    x.observe(notebookContainer, {childList: true});\n",
       "}}\n",
       "\n",
       "// Listen for the clearing of the current output cell\n",
       "var outputEl = gd.closest('.output');\n",
       "if (outputEl) {{\n",
       "    x.observe(outputEl, {childList: true});\n",
       "}}\n",
       "\n",
       "                        })\n",
       "                };\n",
       "                });\n",
       "            </script>\n",
       "        </div>"
      ]
     },
     "metadata": {},
     "output_type": "display_data"
    }
   ],
   "source": [
    "#Status overview\n",
    "\n",
    "pie1 = data_gru_to_eu[\"status\"].value_counts().copy().to_frame().reset_index()\n",
    "fig = px.pie(pie1, values='status', names='index', color_discrete_sequence=px.colors.diverging.Temps, title = \"GRU to Europe: confirmed vs. canceled\")\n",
    "fig.show()"
   ]
  },
  {
   "cell_type": "markdown",
   "metadata": {},
   "source": [
    "- **Which airlines had flights to Europe?**"
   ]
  },
  {
   "cell_type": "code",
   "execution_count": 227,
   "metadata": {
    "scrolled": true
   },
   "outputs": [
    {
     "data": {
      "text/plain": [
       "Text(0.5, 1.0, 'Airlines with most confirmed flights to Europe')"
      ]
     },
     "execution_count": 227,
     "metadata": {},
     "output_type": "execute_result"
    },
    {
     "data": {
      "image/png": "[encoded data removed]",
      "text/plain": [
       "<Figure size 432x288 with 1 Axes>"
      ]
     },
     "metadata": {},
     "output_type": "display_data"
    }
   ],
   "source": [
    "#Confirmed: airlines\n",
    "\n",
    "#Set style for all plots\n",
    "sns.set_style(\"whitegrid\")\n",
    "sns.set_palette(\"Spectral\")\n",
    "\n",
    "plot1 = confirmed_gru_to_eu.pivot_table(index=\"airline\", values=\"status\", aggfunc='count').sort_values(by='status')\n",
    "ax = sns.barplot(plot1.status, plot1.index)\n",
    "ax.set(xlabel='', ylabel='Airlines')\n",
    "ax.set_title(\"Airlines with most confirmed flights to Europe\", fontsize=15)"
   ]
  },
  {
   "cell_type": "markdown",
   "metadata": {},
   "source": [
    "- **Which airlines had most canceled flghts?**"
   ]
  },
  {
   "cell_type": "code",
   "execution_count": 225,
   "metadata": {},
   "outputs": [
    {
     "data": {
      "text/plain": [
       "Text(0.5, 1.0, 'Airlines with most canceled flights to Europe')"
      ]
     },
     "execution_count": 225,
     "metadata": {},
     "output_type": "execute_result"
    },
    {
     "data": {
      "image/png": "[encoded data removed]",
      "text/plain": [
       "<Figure size 432x288 with 1 Axes>"
      ]
     },
     "metadata": {},
     "output_type": "display_data"
    }
   ],
   "source": [
    "#Canceled: airlines\n",
    "plot2 = canceled_gru_to_eu.pivot_table(index=\"airline\", values=\"status\", aggfunc='count').sort_values(by='status')\n",
    "ax2 = sns.barplot(plot2.status, plot2.index)\n",
    "ax2.set(xlabel='', ylabel=\"Airlines\")\n",
    "ax2.set_title(\"Airlines with most canceled flights to Europe\", fontsize=15)"
   ]
  },
  {
   "cell_type": "markdown",
   "metadata": {},
   "source": [
    "- **What were the most frequent destinations?**"
   ]
  },
  {
   "cell_type": "code",
   "execution_count": 210,
   "metadata": {},
   "outputs": [
    {
     "data": {
      "text/plain": [
       "Text(0.5, 1.0, 'GRU to Europe: confirmed destinations')"
      ]
     },
     "execution_count": 210,
     "metadata": {},
     "output_type": "execute_result"
    },
    {
     "data": {
      "image/png": "[encoded data removed]",
      "text/plain": [
       "<Figure size 432x288 with 1 Axes>"
      ]
     },
     "metadata": {},
     "output_type": "display_data"
    }
   ],
   "source": [
    "#Confirmed: destination\n",
    "\n",
    "plot3 =confirmed_gru_to_eu.pivot_table(index=\"airport_arrival\", values=\"status\", aggfunc='count').sort_values(by='status')\n",
    "ax3 = sns.barplot(plot3.status, plot3.index)\n",
    "ax3.set(xlabel='', ylabel=\"Airports\")\n",
    "ax3.set_title(\"GRU to Europe: confirmed destinations\", fontsize=15)"
   ]
  },
  {
   "cell_type": "markdown",
   "metadata": {},
   "source": [
    "- **What were the most frequent destinations for canceled flights?**"
   ]
  },
  {
   "cell_type": "code",
   "execution_count": 211,
   "metadata": {
    "scrolled": true
   },
   "outputs": [
    {
     "data": {
      "text/plain": [
       "Text(0.5, 1.0, 'GRU to Europe: canceled destinations')"
      ]
     },
     "execution_count": 211,
     "metadata": {},
     "output_type": "execute_result"
    },
    {
     "data": {
      "image/png": "[encoded data removed]",
      "text/plain": [
       "<Figure size 432x288 with 1 Axes>"
      ]
     },
     "metadata": {},
     "output_type": "display_data"
    }
   ],
   "source": [
    "#Canceled: destination\n",
    "plot4 = canceled_gru_to_eu.pivot_table(index=\"airport_arrival\", values=\"status\", aggfunc='count').sort_values(by='status')\n",
    "ax4 = sns.barplot(plot4.status, plot4.index)\n",
    "ax4.set(xlabel='', ylabel=\"Airports\")\n",
    "ax4.set_title(\"GRU to Europe: canceled destinations\", fontsize=15)"
   ]
  },
  {
   "cell_type": "markdown",
   "metadata": {},
   "source": [
    "## Analyzing flights from Europe to GRU in June 2020\n"
   ]
  },
  {
   "cell_type": "code",
   "execution_count": 218,
   "metadata": {},
   "outputs": [
    {
     "data": {
      "application/vnd.plotly.v1+json": {
       "config": {
        "plotlyServerURL": "https://plot.ly"
       },
       "data": [
        {
         "domain": {
          "x": [
           0,
           1
          ],
          "y": [
           0,
           1
          ]
         },
         "hovertemplate": "index=%{label}<br>status=%{value}<extra></extra>",
         "labels": [
          "REALIZADO",
          "CANCELADO"
         ],
         "legendgroup": "",
         "name": "",
         "showlegend": true,
         "type": "pie",
         "values": [
          143,
          25
         ]
        }
       ],
       "layout": {
        "legend": {
         "tracegroupgap": 0
        },
        "piecolorway": [
         "rgb(0, 147, 146)",
         "rgb(57, 177, 133)",
         "rgb(156, 203, 134)",
         "rgb(233, 226, 156)",
         "rgb(238, 180, 121)",
         "rgb(232, 132, 113)",
         "rgb(207, 89, 126)"
        ],
        "template": {
         "data": {
          "bar": [
           {
            "error_x": {
             "color": "#2a3f5f"
            },
            "error_y": {
             "color": "#2a3f5f"
            },
            "marker": {
             "line": {
              "color": "#E5ECF6",
              "width": 0.5
             }
            },
            "type": "bar"
           }
          ],
          "barpolar": [
           {
            "marker": {
             "line": {
              "color": "#E5ECF6",
              "width": 0.5
             }
            },
            "type": "barpolar"
           }
          ],
          "carpet": [
           {
            "aaxis": {
             "endlinecolor": "#2a3f5f",
             "gridcolor": "white",
             "linecolor": "white",
             "minorgridcolor": "white",
             "startlinecolor": "#2a3f5f"
            },
            "baxis": {
             "endlinecolor": "#2a3f5f",
             "gridcolor": "white",
             "linecolor": "white",
             "minorgridcolor": "white",
             "startlinecolor": "#2a3f5f"
            },
            "type": "carpet"
           }
          ],
          "choropleth": [
           {
            "colorbar": {
             "outlinewidth": 0,
             "ticks": ""
            },
            "type": "choropleth"
           }
          ],
          "contour": [
           {
            "colorbar": {
             "outlinewidth": 0,
             "ticks": ""
            },
            "colorscale": [
             [
              0,
              "#0d0887"
             ],
             [
              0.1111111111111111,
              "#46039f"
             ],
             [
              0.2222222222222222,
              "#7201a8"
             ],
             [
              0.3333333333333333,
              "#9c179e"
             ],
             [
              0.4444444444444444,
              "#bd3786"
             ],
             [
              0.5555555555555556,
              "#d8576b"
             ],
             [
              0.6666666666666666,
              "#ed7953"
             ],
             [
              0.7777777777777778,
              "#fb9f3a"
             ],
             [
              0.8888888888888888,
              "#fdca26"
             ],
             [
              1,
              "#f0f921"
             ]
            ],
            "type": "contour"
           }
          ],
          "contourcarpet": [
           {
            "colorbar": {
             "outlinewidth": 0,
             "ticks": ""
            },
            "type": "contourcarpet"
           }
          ],
          "heatmap": [
           {
            "colorbar": {
             "outlinewidth": 0,
             "ticks": ""
            },
            "colorscale": [
             [
              0,
              "#0d0887"
             ],
             [
              0.1111111111111111,
              "#46039f"
             ],
             [
              0.2222222222222222,
              "#7201a8"
             ],
             [
              0.3333333333333333,
              "#9c179e"
             ],
             [
              0.4444444444444444,
              "#bd3786"
             ],
             [
              0.5555555555555556,
              "#d8576b"
             ],
             [
              0.6666666666666666,
              "#ed7953"
             ],
             [
              0.7777777777777778,
              "#fb9f3a"
             ],
             [
              0.8888888888888888,
              "#fdca26"
             ],
             [
              1,
              "#f0f921"
             ]
            ],
            "type": "heatmap"
           }
          ],
          "heatmapgl": [
           {
            "colorbar": {
             "outlinewidth": 0,
             "ticks": ""
            },
            "colorscale": [
             [
              0,
              "#0d0887"
             ],
             [
              0.1111111111111111,
              "#46039f"
             ],
             [
              0.2222222222222222,
              "#7201a8"
             ],
             [
              0.3333333333333333,
              "#9c179e"
             ],
             [
              0.4444444444444444,
              "#bd3786"
             ],
             [
              0.5555555555555556,
              "#d8576b"
             ],
             [
              0.6666666666666666,
              "#ed7953"
             ],
             [
              0.7777777777777778,
              "#fb9f3a"
             ],
             [
              0.8888888888888888,
              "#fdca26"
             ],
             [
              1,
              "#f0f921"
             ]
            ],
            "type": "heatmapgl"
           }
          ],
          "histogram": [
           {
            "marker": {
             "colorbar": {
              "outlinewidth": 0,
              "ticks": ""
             }
            },
            "type": "histogram"
           }
          ],
          "histogram2d": [
           {
            "colorbar": {
             "outlinewidth": 0,
             "ticks": ""
            },
            "colorscale": [
             [
              0,
              "#0d0887"
             ],
             [
              0.1111111111111111,
              "#46039f"
             ],
             [
              0.2222222222222222,
              "#7201a8"
             ],
             [
              0.3333333333333333,
              "#9c179e"
             ],
             [
              0.4444444444444444,
              "#bd3786"
             ],
             [
              0.5555555555555556,
              "#d8576b"
             ],
             [
              0.6666666666666666,
              "#ed7953"
             ],
             [
              0.7777777777777778,
              "#fb9f3a"
             ],
             [
              0.8888888888888888,
              "#fdca26"
             ],
             [
              1,
              "#f0f921"
             ]
            ],
            "type": "histogram2d"
           }
          ],
          "histogram2dcontour": [
           {
            "colorbar": {
             "outlinewidth": 0,
             "ticks": ""
            },
            "colorscale": [
             [
              0,
              "#0d0887"
             ],
             [
              0.1111111111111111,
              "#46039f"
             ],
             [
              0.2222222222222222,
              "#7201a8"
             ],
             [
              0.3333333333333333,
              "#9c179e"
             ],
             [
              0.4444444444444444,
              "#bd3786"
             ],
             [
              0.5555555555555556,
              "#d8576b"
             ],
             [
              0.6666666666666666,
              "#ed7953"
             ],
             [
              0.7777777777777778,
              "#fb9f3a"
             ],
             [
              0.8888888888888888,
              "#fdca26"
             ],
             [
              1,
              "#f0f921"
             ]
            ],
            "type": "histogram2dcontour"
           }
          ],
          "mesh3d": [
           {
            "colorbar": {
             "outlinewidth": 0,
             "ticks": ""
            },
            "type": "mesh3d"
           }
          ],
          "parcoords": [
           {
            "line": {
             "colorbar": {
              "outlinewidth": 0,
              "ticks": ""
             }
            },
            "type": "parcoords"
           }
          ],
          "pie": [
           {
            "automargin": true,
            "type": "pie"
           }
          ],
          "scatter": [
           {
            "marker": {
             "colorbar": {
              "outlinewidth": 0,
              "ticks": ""
             }
            },
            "type": "scatter"
           }
          ],
          "scatter3d": [
           {
            "line": {
             "colorbar": {
              "outlinewidth": 0,
              "ticks": ""
             }
            },
            "marker": {
             "colorbar": {
              "outlinewidth": 0,
              "ticks": ""
             }
            },
            "type": "scatter3d"
           }
          ],
          "scattercarpet": [
           {
            "marker": {
             "colorbar": {
              "outlinewidth": 0,
              "ticks": ""
             }
            },
            "type": "scattercarpet"
           }
          ],
          "scattergeo": [
           {
            "marker": {
             "colorbar": {
              "outlinewidth": 0,
              "ticks": ""
             }
            },
            "type": "scattergeo"
           }
          ],
          "scattergl": [
           {
            "marker": {
             "colorbar": {
              "outlinewidth": 0,
              "ticks": ""
             }
            },
            "type": "scattergl"
           }
          ],
          "scattermapbox": [
           {
            "marker": {
             "colorbar": {
              "outlinewidth": 0,
              "ticks": ""
             }
            },
            "type": "scattermapbox"
           }
          ],
          "scatterpolar": [
           {
            "marker": {
             "colorbar": {
              "outlinewidth": 0,
              "ticks": ""
             }
            },
            "type": "scatterpolar"
           }
          ],
          "scatterpolargl": [
           {
            "marker": {
             "colorbar": {
              "outlinewidth": 0,
              "ticks": ""
             }
            },
            "type": "scatterpolargl"
           }
          ],
          "scatterternary": [
           {
            "marker": {
             "colorbar": {
              "outlinewidth": 0,
              "ticks": ""
             }
            },
            "type": "scatterternary"
           }
          ],
          "surface": [
           {
            "colorbar": {
             "outlinewidth": 0,
             "ticks": ""
            },
            "colorscale": [
             [
              0,
              "#0d0887"
             ],
             [
              0.1111111111111111,
              "#46039f"
             ],
             [
              0.2222222222222222,
              "#7201a8"
             ],
             [
              0.3333333333333333,
              "#9c179e"
             ],
             [
              0.4444444444444444,
              "#bd3786"
             ],
             [
              0.5555555555555556,
              "#d8576b"
             ],
             [
              0.6666666666666666,
              "#ed7953"
             ],
             [
              0.7777777777777778,
              "#fb9f3a"
             ],
             [
              0.8888888888888888,
              "#fdca26"
             ],
             [
              1,
              "#f0f921"
             ]
            ],
            "type": "surface"
           }
          ],
          "table": [
           {
            "cells": {
             "fill": {
              "color": "#EBF0F8"
             },
             "line": {
              "color": "white"
             }
            },
            "header": {
             "fill": {
              "color": "#C8D4E3"
             },
             "line": {
              "color": "white"
             }
            },
            "type": "table"
           }
          ]
         },
         "layout": {
          "annotationdefaults": {
           "arrowcolor": "#2a3f5f",
           "arrowhead": 0,
           "arrowwidth": 1
          },
          "coloraxis": {
           "colorbar": {
            "outlinewidth": 0,
            "ticks": ""
           }
          },
          "colorscale": {
           "diverging": [
            [
             0,
             "#8e0152"
            ],
            [
             0.1,
             "#c51b7d"
            ],
            [
             0.2,
             "#de77ae"
            ],
            [
             0.3,
             "#f1b6da"
            ],
            [
             0.4,
             "#fde0ef"
            ],
            [
             0.5,
             "#f7f7f7"
            ],
            [
             0.6,
             "#e6f5d0"
            ],
            [
             0.7,
             "#b8e186"
            ],
            [
             0.8,
             "#7fbc41"
            ],
            [
             0.9,
             "#4d9221"
            ],
            [
             1,
             "#276419"
            ]
           ],
           "sequential": [
            [
             0,
             "#0d0887"
            ],
            [
             0.1111111111111111,
             "#46039f"
            ],
            [
             0.2222222222222222,
             "#7201a8"
            ],
            [
             0.3333333333333333,
             "#9c179e"
            ],
            [
             0.4444444444444444,
             "#bd3786"
            ],
            [
             0.5555555555555556,
             "#d8576b"
            ],
            [
             0.6666666666666666,
             "#ed7953"
            ],
            [
             0.7777777777777778,
             "#fb9f3a"
            ],
            [
             0.8888888888888888,
             "#fdca26"
            ],
            [
             1,
             "#f0f921"
            ]
           ],
           "sequentialminus": [
            [
             0,
             "#0d0887"
            ],
            [
             0.1111111111111111,
             "#46039f"
            ],
            [
             0.2222222222222222,
             "#7201a8"
            ],
            [
             0.3333333333333333,
             "#9c179e"
            ],
            [
             0.4444444444444444,
             "#bd3786"
            ],
            [
             0.5555555555555556,
             "#d8576b"
            ],
            [
             0.6666666666666666,
             "#ed7953"
            ],
            [
             0.7777777777777778,
             "#fb9f3a"
            ],
            [
             0.8888888888888888,
             "#fdca26"
            ],
            [
             1,
             "#f0f921"
            ]
           ]
          },
          "colorway": [
           "#636efa",
           "#EF553B",
           "#00cc96",
           "#ab63fa",
           "#FFA15A",
           "#19d3f3",
           "#FF6692",
           "#B6E880",
           "#FF97FF",
           "#FECB52"
          ],
          "font": {
           "color": "#2a3f5f"
          },
          "geo": {
           "bgcolor": "white",
           "lakecolor": "white",
           "landcolor": "#E5ECF6",
           "showlakes": true,
           "showland": true,
           "subunitcolor": "white"
          },
          "hoverlabel": {
           "align": "left"
          },
          "hovermode": "closest",
          "mapbox": {
           "style": "light"
          },
          "paper_bgcolor": "white",
          "plot_bgcolor": "#E5ECF6",
          "polar": {
           "angularaxis": {
            "gridcolor": "white",
            "linecolor": "white",
            "ticks": ""
           },
           "bgcolor": "#E5ECF6",
           "radialaxis": {
            "gridcolor": "white",
            "linecolor": "white",
            "ticks": ""
           }
          },
          "scene": {
           "xaxis": {
            "backgroundcolor": "#E5ECF6",
            "gridcolor": "white",
            "gridwidth": 2,
            "linecolor": "white",
            "showbackground": true,
            "ticks": "",
            "zerolinecolor": "white"
           },
           "yaxis": {
            "backgroundcolor": "#E5ECF6",
            "gridcolor": "white",
            "gridwidth": 2,
            "linecolor": "white",
            "showbackground": true,
            "ticks": "",
            "zerolinecolor": "white"
           },
           "zaxis": {
            "backgroundcolor": "#E5ECF6",
            "gridcolor": "white",
            "gridwidth": 2,
            "linecolor": "white",
            "showbackground": true,
            "ticks": "",
            "zerolinecolor": "white"
           }
          },
          "shapedefaults": {
           "line": {
            "color": "#2a3f5f"
           }
          },
          "ternary": {
           "aaxis": {
            "gridcolor": "white",
            "linecolor": "white",
            "ticks": ""
           },
           "baxis": {
            "gridcolor": "white",
            "linecolor": "white",
            "ticks": ""
           },
           "bgcolor": "#E5ECF6",
           "caxis": {
            "gridcolor": "white",
            "linecolor": "white",
            "ticks": ""
           }
          },
          "title": {
           "x": 0.05
          },
          "xaxis": {
           "automargin": true,
           "gridcolor": "white",
           "linecolor": "white",
           "ticks": "",
           "title": {
            "standoff": 15
           },
           "zerolinecolor": "white",
           "zerolinewidth": 2
          },
          "yaxis": {
           "automargin": true,
           "gridcolor": "white",
           "linecolor": "white",
           "ticks": "",
           "title": {
            "standoff": 15
           },
           "zerolinecolor": "white",
           "zerolinewidth": 2
          }
         }
        },
        "title": {
         "text": "Europe to GRU: confirmed vs. canceled"
        }
       }
      },
      "text/html": [
       "<div>\n",
       "        \n",
       "        \n",
       "            <div id=\"1a8ec3c1-75b3-498a-8b30-30af9027aaa0\" class=\"plotly-graph-div\" style=\"height:525px; width:100%;\"></div>\n",
       "            <script type=\"text/javascript\">\n",
       "                require([\"plotly\"], function(Plotly) {\n",
       "                    window.PLOTLYENV=window.PLOTLYENV || {};\n",
       "                    \n",
       "                if (document.getElementById(\"1a8ec3c1-75b3-498a-8b30-30af9027aaa0\")) {\n",
       "                    Plotly.newPlot(\n",
       "                        '1a8ec3c1-75b3-498a-8b30-30af9027aaa0',\n",
       "                        [{\"domain\": {\"x\": [0.0, 1.0], \"y\": [0.0, 1.0]}, \"hovertemplate\": \"index=%{label}<br>status=%{value}<extra></extra>\", \"labels\": [\"REALIZADO\", \"CANCELADO\"], \"legendgroup\": \"\", \"name\": \"\", \"showlegend\": true, \"type\": \"pie\", \"values\": [143, 25]}],\n",
       "                        {\"legend\": {\"tracegroupgap\": 0}, \"piecolorway\": [\"rgb(0, 147, 146)\", \"rgb(57, 177, 133)\", \"rgb(156, 203, 134)\", \"rgb(233, 226, 156)\", \"rgb(238, 180, 121)\", \"rgb(232, 132, 113)\", \"rgb(207, 89, 126)\"], \"template\": {\"data\": {\"bar\": [{\"error_x\": {\"color\": \"#2a3f5f\"}, \"error_y\": {\"color\": \"#2a3f5f\"}, \"marker\": {\"line\": {\"color\": \"#E5ECF6\", \"width\": 0.5}}, \"type\": \"bar\"}], \"barpolar\": [{\"marker\": {\"line\": {\"color\": \"#E5ECF6\", \"width\": 0.5}}, \"type\": \"barpolar\"}], \"carpet\": [{\"aaxis\": {\"endlinecolor\": \"#2a3f5f\", \"gridcolor\": \"white\", \"linecolor\": \"white\", \"minorgridcolor\": \"white\", \"startlinecolor\": \"#2a3f5f\"}, \"baxis\": {\"endlinecolor\": \"#2a3f5f\", \"gridcolor\": \"white\", \"linecolor\": \"white\", \"minorgridcolor\": \"white\", \"startlinecolor\": \"#2a3f5f\"}, \"type\": \"carpet\"}], \"choropleth\": [{\"colorbar\": {\"outlinewidth\": 0, \"ticks\": \"\"}, \"type\": \"choropleth\"}], \"contour\": [{\"colorbar\": {\"outlinewidth\": 0, \"ticks\": \"\"}, \"colorscale\": [[0.0, \"#0d0887\"], [0.1111111111111111, \"#46039f\"], [0.2222222222222222, \"#7201a8\"], [0.3333333333333333, \"#9c179e\"], [0.4444444444444444, \"#bd3786\"], [0.5555555555555556, \"#d8576b\"], [0.6666666666666666, \"#ed7953\"], [0.7777777777777778, \"#fb9f3a\"], [0.8888888888888888, \"#fdca26\"], [1.0, \"#f0f921\"]], \"type\": \"contour\"}], \"contourcarpet\": [{\"colorbar\": {\"outlinewidth\": 0, \"ticks\": \"\"}, \"type\": \"contourcarpet\"}], \"heatmap\": [{\"colorbar\": {\"outlinewidth\": 0, \"ticks\": \"\"}, \"colorscale\": [[0.0, \"#0d0887\"], [0.1111111111111111, \"#46039f\"], [0.2222222222222222, \"#7201a8\"], [0.3333333333333333, \"#9c179e\"], [0.4444444444444444, \"#bd3786\"], [0.5555555555555556, \"#d8576b\"], [0.6666666666666666, \"#ed7953\"], [0.7777777777777778, \"#fb9f3a\"], [0.8888888888888888, \"#fdca26\"], [1.0, \"#f0f921\"]], \"type\": \"heatmap\"}], \"heatmapgl\": [{\"colorbar\": {\"outlinewidth\": 0, \"ticks\": \"\"}, \"colorscale\": [[0.0, \"#0d0887\"], [0.1111111111111111, \"#46039f\"], [0.2222222222222222, \"#7201a8\"], [0.3333333333333333, \"#9c179e\"], [0.4444444444444444, \"#bd3786\"], [0.5555555555555556, \"#d8576b\"], [0.6666666666666666, \"#ed7953\"], [0.7777777777777778, \"#fb9f3a\"], [0.8888888888888888, \"#fdca26\"], [1.0, \"#f0f921\"]], \"type\": \"heatmapgl\"}], \"histogram\": [{\"marker\": {\"colorbar\": {\"outlinewidth\": 0, \"ticks\": \"\"}}, \"type\": \"histogram\"}], \"histogram2d\": [{\"colorbar\": {\"outlinewidth\": 0, \"ticks\": \"\"}, \"colorscale\": [[0.0, \"#0d0887\"], [0.1111111111111111, \"#46039f\"], [0.2222222222222222, \"#7201a8\"], [0.3333333333333333, \"#9c179e\"], [0.4444444444444444, \"#bd3786\"], [0.5555555555555556, \"#d8576b\"], [0.6666666666666666, \"#ed7953\"], [0.7777777777777778, \"#fb9f3a\"], [0.8888888888888888, \"#fdca26\"], [1.0, \"#f0f921\"]], \"type\": \"histogram2d\"}], \"histogram2dcontour\": [{\"colorbar\": {\"outlinewidth\": 0, \"ticks\": \"\"}, \"colorscale\": [[0.0, \"#0d0887\"], [0.1111111111111111, \"#46039f\"], [0.2222222222222222, \"#7201a8\"], [0.3333333333333333, \"#9c179e\"], [0.4444444444444444, \"#bd3786\"], [0.5555555555555556, \"#d8576b\"], [0.6666666666666666, \"#ed7953\"], [0.7777777777777778, \"#fb9f3a\"], [0.8888888888888888, \"#fdca26\"], [1.0, \"#f0f921\"]], \"type\": \"histogram2dcontour\"}], \"mesh3d\": [{\"colorbar\": {\"outlinewidth\": 0, \"ticks\": \"\"}, \"type\": \"mesh3d\"}], \"parcoords\": [{\"line\": {\"colorbar\": {\"outlinewidth\": 0, \"ticks\": \"\"}}, \"type\": \"parcoords\"}], \"pie\": [{\"automargin\": true, \"type\": \"pie\"}], \"scatter\": [{\"marker\": {\"colorbar\": {\"outlinewidth\": 0, \"ticks\": \"\"}}, \"type\": \"scatter\"}], \"scatter3d\": [{\"line\": {\"colorbar\": {\"outlinewidth\": 0, \"ticks\": \"\"}}, \"marker\": {\"colorbar\": {\"outlinewidth\": 0, \"ticks\": \"\"}}, \"type\": \"scatter3d\"}], \"scattercarpet\": [{\"marker\": {\"colorbar\": {\"outlinewidth\": 0, \"ticks\": \"\"}}, \"type\": \"scattercarpet\"}], \"scattergeo\": [{\"marker\": {\"colorbar\": {\"outlinewidth\": 0, \"ticks\": \"\"}}, \"type\": \"scattergeo\"}], \"scattergl\": [{\"marker\": {\"colorbar\": {\"outlinewidth\": 0, \"ticks\": \"\"}}, \"type\": \"scattergl\"}], \"scattermapbox\": [{\"marker\": {\"colorbar\": {\"outlinewidth\": 0, \"ticks\": \"\"}}, \"type\": \"scattermapbox\"}], \"scatterpolar\": [{\"marker\": {\"colorbar\": {\"outlinewidth\": 0, \"ticks\": \"\"}}, \"type\": \"scatterpolar\"}], \"scatterpolargl\": [{\"marker\": {\"colorbar\": {\"outlinewidth\": 0, \"ticks\": \"\"}}, \"type\": \"scatterpolargl\"}], \"scatterternary\": [{\"marker\": {\"colorbar\": {\"outlinewidth\": 0, \"ticks\": \"\"}}, \"type\": \"scatterternary\"}], \"surface\": [{\"colorbar\": {\"outlinewidth\": 0, \"ticks\": \"\"}, \"colorscale\": [[0.0, \"#0d0887\"], [0.1111111111111111, \"#46039f\"], [0.2222222222222222, \"#7201a8\"], [0.3333333333333333, \"#9c179e\"], [0.4444444444444444, \"#bd3786\"], [0.5555555555555556, \"#d8576b\"], [0.6666666666666666, \"#ed7953\"], [0.7777777777777778, \"#fb9f3a\"], [0.8888888888888888, \"#fdca26\"], [1.0, \"#f0f921\"]], \"type\": \"surface\"}], \"table\": [{\"cells\": {\"fill\": {\"color\": \"#EBF0F8\"}, \"line\": {\"color\": \"white\"}}, \"header\": {\"fill\": {\"color\": \"#C8D4E3\"}, \"line\": {\"color\": \"white\"}}, \"type\": \"table\"}]}, \"layout\": {\"annotationdefaults\": {\"arrowcolor\": \"#2a3f5f\", \"arrowhead\": 0, \"arrowwidth\": 1}, \"coloraxis\": {\"colorbar\": {\"outlinewidth\": 0, \"ticks\": \"\"}}, \"colorscale\": {\"diverging\": [[0, \"#8e0152\"], [0.1, \"#c51b7d\"], [0.2, \"#de77ae\"], [0.3, \"#f1b6da\"], [0.4, \"#fde0ef\"], [0.5, \"#f7f7f7\"], [0.6, \"#e6f5d0\"], [0.7, \"#b8e186\"], [0.8, \"#7fbc41\"], [0.9, \"#4d9221\"], [1, \"#276419\"]], \"sequential\": [[0.0, \"#0d0887\"], [0.1111111111111111, \"#46039f\"], [0.2222222222222222, \"#7201a8\"], [0.3333333333333333, \"#9c179e\"], [0.4444444444444444, \"#bd3786\"], [0.5555555555555556, \"#d8576b\"], [0.6666666666666666, \"#ed7953\"], [0.7777777777777778, \"#fb9f3a\"], [0.8888888888888888, \"#fdca26\"], [1.0, \"#f0f921\"]], \"sequentialminus\": [[0.0, \"#0d0887\"], [0.1111111111111111, \"#46039f\"], [0.2222222222222222, \"#7201a8\"], [0.3333333333333333, \"#9c179e\"], [0.4444444444444444, \"#bd3786\"], [0.5555555555555556, \"#d8576b\"], [0.6666666666666666, \"#ed7953\"], [0.7777777777777778, \"#fb9f3a\"], [0.8888888888888888, \"#fdca26\"], [1.0, \"#f0f921\"]]}, \"colorway\": [\"#636efa\", \"#EF553B\", \"#00cc96\", \"#ab63fa\", \"#FFA15A\", \"#19d3f3\", \"#FF6692\", \"#B6E880\", \"#FF97FF\", \"#FECB52\"], \"font\": {\"color\": \"#2a3f5f\"}, \"geo\": {\"bgcolor\": \"white\", \"lakecolor\": \"white\", \"landcolor\": \"#E5ECF6\", \"showlakes\": true, \"showland\": true, \"subunitcolor\": \"white\"}, \"hoverlabel\": {\"align\": \"left\"}, \"hovermode\": \"closest\", \"mapbox\": {\"style\": \"light\"}, \"paper_bgcolor\": \"white\", \"plot_bgcolor\": \"#E5ECF6\", \"polar\": {\"angularaxis\": {\"gridcolor\": \"white\", \"linecolor\": \"white\", \"ticks\": \"\"}, \"bgcolor\": \"#E5ECF6\", \"radialaxis\": {\"gridcolor\": \"white\", \"linecolor\": \"white\", \"ticks\": \"\"}}, \"scene\": {\"xaxis\": {\"backgroundcolor\": \"#E5ECF6\", \"gridcolor\": \"white\", \"gridwidth\": 2, \"linecolor\": \"white\", \"showbackground\": true, \"ticks\": \"\", \"zerolinecolor\": \"white\"}, \"yaxis\": {\"backgroundcolor\": \"#E5ECF6\", \"gridcolor\": \"white\", \"gridwidth\": 2, \"linecolor\": \"white\", \"showbackground\": true, \"ticks\": \"\", \"zerolinecolor\": \"white\"}, \"zaxis\": {\"backgroundcolor\": \"#E5ECF6\", \"gridcolor\": \"white\", \"gridwidth\": 2, \"linecolor\": \"white\", \"showbackground\": true, \"ticks\": \"\", \"zerolinecolor\": \"white\"}}, \"shapedefaults\": {\"line\": {\"color\": \"#2a3f5f\"}}, \"ternary\": {\"aaxis\": {\"gridcolor\": \"white\", \"linecolor\": \"white\", \"ticks\": \"\"}, \"baxis\": {\"gridcolor\": \"white\", \"linecolor\": \"white\", \"ticks\": \"\"}, \"bgcolor\": \"#E5ECF6\", \"caxis\": {\"gridcolor\": \"white\", \"linecolor\": \"white\", \"ticks\": \"\"}}, \"title\": {\"x\": 0.05}, \"xaxis\": {\"automargin\": true, \"gridcolor\": \"white\", \"linecolor\": \"white\", \"ticks\": \"\", \"title\": {\"standoff\": 15}, \"zerolinecolor\": \"white\", \"zerolinewidth\": 2}, \"yaxis\": {\"automargin\": true, \"gridcolor\": \"white\", \"linecolor\": \"white\", \"ticks\": \"\", \"title\": {\"standoff\": 15}, \"zerolinecolor\": \"white\", \"zerolinewidth\": 2}}}, \"title\": {\"text\": \"Europe to GRU: confirmed vs. canceled\"}},\n",
       "                        {\"responsive\": true}\n",
       "                    ).then(function(){\n",
       "                            \n",
       "var gd = document.getElementById('1a8ec3c1-75b3-498a-8b30-30af9027aaa0');\n",
       "var x = new MutationObserver(function (mutations, observer) {{\n",
       "        var display = window.getComputedStyle(gd).display;\n",
       "        if (!display || display === 'none') {{\n",
       "            console.log([gd, 'removed!']);\n",
       "            Plotly.purge(gd);\n",
       "            observer.disconnect();\n",
       "        }}\n",
       "}});\n",
       "\n",
       "// Listen for the removal of the full notebook cells\n",
       "var notebookContainer = gd.closest('#notebook-container');\n",
       "if (notebookContainer) {{\n",
       "    x.observe(notebookContainer, {childList: true});\n",
       "}}\n",
       "\n",
       "// Listen for the clearing of the current output cell\n",
       "var outputEl = gd.closest('.output');\n",
       "if (outputEl) {{\n",
       "    x.observe(outputEl, {childList: true});\n",
       "}}\n",
       "\n",
       "                        })\n",
       "                };\n",
       "                });\n",
       "            </script>\n",
       "        </div>"
      ]
     },
     "metadata": {},
     "output_type": "display_data"
    }
   ],
   "source": [
    "#Status overview\n",
    "pie2 = data_eu_to_gru[\"status\"].value_counts().copy().to_frame().reset_index()\n",
    "fig2 = px.pie(pie2, values='status', names='index', color_discrete_sequence=px.colors.diverging.Temps, title= \"Europe to GRU: confirmed vs. canceled\")\n",
    "fig2.show()\n"
   ]
  },
  {
   "cell_type": "markdown",
   "metadata": {},
   "source": [
    "- **Which airlines had flights to GRU?**"
   ]
  },
  {
   "cell_type": "code",
   "execution_count": 228,
   "metadata": {},
   "outputs": [
    {
     "data": {
      "text/plain": [
       "Text(0.5, 1.0, 'Airlines with confirmed flights from Europe')"
      ]
     },
     "execution_count": 228,
     "metadata": {},
     "output_type": "execute_result"
    },
    {
     "data": {
      "image/png": "[encoded data removed]",
      "text/plain": [
       "<Figure size 432x288 with 1 Axes>"
      ]
     },
     "metadata": {},
     "output_type": "display_data"
    }
   ],
   "source": [
    "plot5 = confirmed_from_eu.pivot_table(index=\"airline\", values=\"status\", aggfunc='count').sort_values(by='status')\n",
    "ax5 = sns.barplot(plot5.status, plot5.index)\n",
    "ax5.set(xlabel='', ylabel='Airlines')\n",
    "ax5.set_title(\"Airlines with confirmed flights from Europe\", fontsize=15)"
   ]
  },
  {
   "cell_type": "markdown",
   "metadata": {},
   "source": [
    "- **From which airport?**"
   ]
  },
  {
   "cell_type": "code",
   "execution_count": 229,
   "metadata": {},
   "outputs": [
    {
     "data": {
      "text/plain": [
       "Text(0.5, 1.0, 'Airports with most confirmed flights from Europe')"
      ]
     },
     "execution_count": 229,
     "metadata": {},
     "output_type": "execute_result"
    },
    {
     "data": {
      "image/png": "[encoded data removed]",
      "text/plain": [
       "<Figure size 432x288 with 1 Axes>"
      ]
     },
     "metadata": {},
     "output_type": "display_data"
    }
   ],
   "source": [
    "plot6 = confirmed_from_eu.pivot_table(index=\"airport_departure\", values=\"status\", aggfunc='count').sort_values(by='status')\n",
    "ax6 = sns.barplot(plot6.status, plot6.index)\n",
    "ax6.set(xlabel='', ylabel='Airports')\n",
    "ax6.set_title(\"Airports with most confirmed flights from Europe\", fontsize=15)"
   ]
  },
  {
   "cell_type": "markdown",
   "metadata": {},
   "source": [
    "- **Which airlines had canceled flights from Europe to Guarulhos?**"
   ]
  },
  {
   "cell_type": "code",
   "execution_count": 223,
   "metadata": {
    "scrolled": true
   },
   "outputs": [
    {
     "data": {
      "text/plain": [
       "Text(0.5, 1.0, 'Airlines with most canceled flights from Europe')"
      ]
     },
     "execution_count": 223,
     "metadata": {},
     "output_type": "execute_result"
    },
    {
     "data": {
      "image/png": "[encoded data removed]",
      "text/plain": [
       "<Figure size 432x288 with 1 Axes>"
      ]
     },
     "metadata": {},
     "output_type": "display_data"
    }
   ],
   "source": [
    "plot7 = canceled_from_eu.pivot_table(index=\"airline\", values=\"status\", aggfunc='count').sort_values(by='status')\n",
    "ax7 = sns.barplot(plot7.status, plot7.index)\n",
    "ax7.set(xlabel='', ylabel='Airlines')\n",
    "ax7.set_title(\"Airlines with most canceled flights from Europe\", fontsize=15)"
   ]
  },
  {
   "cell_type": "markdown",
   "metadata": {},
   "source": [
    "- **From which cities?**"
   ]
  },
  {
   "cell_type": "code",
   "execution_count": 224,
   "metadata": {
    "scrolled": false
   },
   "outputs": [
    {
     "data": {
      "text/plain": [
       "Text(0.5, 1.0, 'Airports with most canceled flights from Europe')"
      ]
     },
     "execution_count": 224,
     "metadata": {},
     "output_type": "execute_result"
    },
    {
     "data": {
      "image/png": "[encoded data removed]",
      "text/plain": [
       "<Figure size 432x288 with 1 Axes>"
      ]
     },
     "metadata": {},
     "output_type": "display_data"
    }
   ],
   "source": [
    "plot8 = canceled_from_eu.pivot_table(index=\"airport_departure\", values=\"status\", aggfunc='count').sort_values(by='status')\n",
    "ax8 = sns.barplot(plot8.status, plot8.index)\n",
    "ax8.set(xlabel='', ylabel='Airports')\n",
    "ax8.set_title(\"Airports with most canceled flights from Europe\", fontsize=15)"
   ]
  },
  {
   "cell_type": "markdown",
   "metadata": {},
   "source": [
    "## Conclusions"
   ]
  },
  {
   "cell_type": "markdown",
   "metadata": {},
   "source": [
    "**Overview:** There were more canceled flights from Europe to Guarulhos than the opposite. For both directions, the percentage of canceled flights were below 15%. \n",
    "\n",
    "**From GRU:**\n",
    "- KLM, British Airways, and Latam had over 20 flights each one to Europe in June 2020.\n",
    "- In general, the most frequent destinations were Frankfurt, London, and Amsterdam. \n",
    "- There were 10 canceled flights in June, 4 of them operated by Air China.\n",
    "- Madrid was the most affected destination by the cancelations.\n",
    "\n",
    "**From Europe**:\n",
    "\n",
    "- Latam, Lufhansa and KLM were the companies with most confimed flights to Guarulhos.\n",
    "- Amsterdam was the most frequent airport departure, with more than 35 flights.\n",
    "- Qtar Airlines had 12 fights canceled to Guarulhos.\n",
    "- The european airport with most canceled flights was in Luxemburg.    "
   ]
  }
 ],
 "metadata": {
  "kernelspec": {
   "display_name": "Python 3",
   "language": "python",
   "name": "python3"
  },
  "language_info": {
   "codemirror_mode": {
    "name": "ipython",
    "version": 3
   },
   "file_extension": ".py",
   "mimetype": "text/x-python",
   "name": "python",
   "nbconvert_exporter": "python",
   "pygments_lexer": "ipython3",
   "version": "3.7.7"
  }
 },
 "nbformat": 4,
 "nbformat_minor": 4
}
